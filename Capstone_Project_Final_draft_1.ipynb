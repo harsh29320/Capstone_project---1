{
 "cells": [
  {
   "cell_type": "code",
   "execution_count": 127,
   "metadata": {
    "collapsed": true
   },
   "outputs": [],
   "source": [
    "%matplotlib inline\n",
    "\n",
    "import pandas as pd\n",
    "import numpy as np\n",
    "\n",
    "#packages for EDA\n",
    "import seaborn as sns\n",
    "import matplotlib.pyplot as plt\n",
    "from scipy import stats\n",
    "sns.set()\n",
    "\n",
    "#packages for model development\n",
    "from sklearn.feature_selection import SelectFromModel\n",
    "from sklearn.ensemble import RandomForestRegressor\n",
    "from sklearn.linear_model import ElasticNet\n",
    "from sklearn.metrics import mean_squared_error\n",
    "from sklearn.model_selection import GridSearchCV, train_test_split\n",
    "from sklearn.preprocessing import StandardScaler\n",
    "from sklearn.pipeline import Pipeline"
   ]
  },
  {
   "cell_type": "code",
   "execution_count": 4,
   "metadata": {
    "collapsed": true
   },
   "outputs": [],
   "source": [
    "# url link to the csv file for importing college scorecard data\n",
    "url = 'https://ed-public-download.app.cloud.gov/downloads/Most-Recent-Cohorts-All-Data-Elements.csv'"
   ]
  },
  {
   "cell_type": "code",
   "execution_count": 5,
   "metadata": {
    "collapsed": true
   },
   "outputs": [],
   "source": [
    "# url link to the excel file for importing data dictionary\n",
    "url1 = 'https://collegescorecard.ed.gov/assets/CollegeScorecardDataDictionary.xlsx'"
   ]
  },
  {
   "cell_type": "code",
   "execution_count": 6,
   "metadata": {
    "collapsed": true
   },
   "outputs": [],
   "source": [
    "xl = pd.ExcelFile (url1)"
   ]
  },
  {
   "cell_type": "code",
   "execution_count": 7,
   "metadata": {
    "collapsed": true
   },
   "outputs": [],
   "source": [
    "#getting data dictionary\n",
    "data_dict = xl.parse('data_dictionary')"
   ]
  },
  {
   "cell_type": "code",
   "execution_count": 8,
   "metadata": {},
   "outputs": [
    {
     "data": {
      "text/html": [
       "<div>\n",
       "<style>\n",
       "    .dataframe thead tr:only-child th {\n",
       "        text-align: right;\n",
       "    }\n",
       "\n",
       "    .dataframe thead th {\n",
       "        text-align: left;\n",
       "    }\n",
       "\n",
       "    .dataframe tbody tr th {\n",
       "        vertical-align: top;\n",
       "    }\n",
       "</style>\n",
       "<table border=\"1\" class=\"dataframe\">\n",
       "  <thead>\n",
       "    <tr style=\"text-align: right;\">\n",
       "      <th></th>\n",
       "      <th>NAME OF DATA ELEMENT</th>\n",
       "      <th>dev-category</th>\n",
       "      <th>developer-friendly name</th>\n",
       "      <th>API data type</th>\n",
       "      <th>VARIABLE NAME</th>\n",
       "      <th>VALUE</th>\n",
       "      <th>LABEL</th>\n",
       "      <th>SOURCE</th>\n",
       "      <th>NOTES</th>\n",
       "    </tr>\n",
       "  </thead>\n",
       "  <tbody>\n",
       "    <tr>\n",
       "      <th>0</th>\n",
       "      <td>Unit ID for institution</td>\n",
       "      <td>root</td>\n",
       "      <td>id</td>\n",
       "      <td>integer</td>\n",
       "      <td>UNITID</td>\n",
       "      <td>NaN</td>\n",
       "      <td>NaN</td>\n",
       "      <td>IPEDS</td>\n",
       "      <td>Shown/used on consumer website.</td>\n",
       "    </tr>\n",
       "    <tr>\n",
       "      <th>1</th>\n",
       "      <td>8-digit OPE ID for institution</td>\n",
       "      <td>root</td>\n",
       "      <td>ope8_id</td>\n",
       "      <td>integer</td>\n",
       "      <td>OPEID</td>\n",
       "      <td>NaN</td>\n",
       "      <td>NaN</td>\n",
       "      <td>IPEDS</td>\n",
       "      <td>Shown/used on consumer website.</td>\n",
       "    </tr>\n",
       "    <tr>\n",
       "      <th>2</th>\n",
       "      <td>6-digit OPE ID for institution</td>\n",
       "      <td>root</td>\n",
       "      <td>ope6_id</td>\n",
       "      <td>integer</td>\n",
       "      <td>OPEID6</td>\n",
       "      <td>NaN</td>\n",
       "      <td>NaN</td>\n",
       "      <td>IPEDS</td>\n",
       "      <td>Shown/used on consumer website.</td>\n",
       "    </tr>\n",
       "    <tr>\n",
       "      <th>3</th>\n",
       "      <td>Institution name</td>\n",
       "      <td>school</td>\n",
       "      <td>name</td>\n",
       "      <td>autocomplete</td>\n",
       "      <td>INSTNM</td>\n",
       "      <td>NaN</td>\n",
       "      <td>NaN</td>\n",
       "      <td>IPEDS</td>\n",
       "      <td>Shown/used on consumer website.</td>\n",
       "    </tr>\n",
       "    <tr>\n",
       "      <th>4</th>\n",
       "      <td>City</td>\n",
       "      <td>school</td>\n",
       "      <td>city</td>\n",
       "      <td>autocomplete</td>\n",
       "      <td>CITY</td>\n",
       "      <td>NaN</td>\n",
       "      <td>NaN</td>\n",
       "      <td>IPEDS</td>\n",
       "      <td>Shown/used on consumer website.</td>\n",
       "    </tr>\n",
       "  </tbody>\n",
       "</table>\n",
       "</div>"
      ],
      "text/plain": [
       "             NAME OF DATA ELEMENT dev-category developer-friendly name  \\\n",
       "0         Unit ID for institution         root                      id   \n",
       "1  8-digit OPE ID for institution         root                 ope8_id   \n",
       "2  6-digit OPE ID for institution         root                 ope6_id   \n",
       "3                Institution name       school                    name   \n",
       "4                            City       school                    city   \n",
       "\n",
       "  API data type VARIABLE NAME  VALUE LABEL SOURCE  \\\n",
       "0       integer        UNITID    NaN   NaN  IPEDS   \n",
       "1       integer         OPEID    NaN   NaN  IPEDS   \n",
       "2       integer        OPEID6    NaN   NaN  IPEDS   \n",
       "3  autocomplete        INSTNM    NaN   NaN  IPEDS   \n",
       "4  autocomplete          CITY    NaN   NaN  IPEDS   \n",
       "\n",
       "                             NOTES  \n",
       "0  Shown/used on consumer website.  \n",
       "1  Shown/used on consumer website.  \n",
       "2  Shown/used on consumer website.  \n",
       "3  Shown/used on consumer website.  \n",
       "4  Shown/used on consumer website.  "
      ]
     },
     "execution_count": 8,
     "metadata": {},
     "output_type": "execute_result"
    }
   ],
   "source": [
    "data_dict.head()"
   ]
  },
  {
   "cell_type": "code",
   "execution_count": 9,
   "metadata": {},
   "outputs": [
    {
     "data": {
      "text/plain": [
       "array(['root', 'school', nan, 'admissions', 'academics', 'student', 'cost',\n",
       "       'aid', 'completion', 'repayment', 'earnings'], dtype=object)"
      ]
     },
     "execution_count": 9,
     "metadata": {},
     "output_type": "execute_result"
    }
   ],
   "source": [
    "#Unique categories from data dictionary\n",
    "data_dict['dev-category'].unique()"
   ]
  },
  {
   "cell_type": "code",
   "execution_count": 10,
   "metadata": {
    "collapsed": true
   },
   "outputs": [],
   "source": [
    "#getting columns from completion\n",
    "data_columns = data_dict.loc[data_dict['dev-category'].isin (['root', 'school','admissions','academics','cost'])]['VARIABLE NAME']"
   ]
  },
  {
   "cell_type": "code",
   "execution_count": 11,
   "metadata": {
    "collapsed": true
   },
   "outputs": [],
   "source": [
    "data_columns1 = data_columns.dropna().tolist()"
   ]
  },
  {
   "cell_type": "code",
   "execution_count": 12,
   "metadata": {
    "collapsed": true
   },
   "outputs": [],
   "source": [
    "#remove columns starting with CIP\n",
    "data_columns2 = [col for col in data_columns1 if (col[:3] =='CIP')]"
   ]
  },
  {
   "cell_type": "code",
   "execution_count": 13,
   "metadata": {
    "scrolled": true
   },
   "outputs": [
    {
     "name": "stderr",
     "output_type": "stream",
     "text": [
      "C:\\Users\\harshvardhan\\Anaconda3\\lib\\site-packages\\IPython\\core\\interactiveshell.py:2698: DtypeWarning: Columns (6,9,1729,1743) have mixed types. Specify dtype option on import or set low_memory=False.\n",
      "  interactivity=interactivity, compiler=compiler, result=result)\n"
     ]
    }
   ],
   "source": [
    "# Several values in the columns are represented as PrivacySuppressed: replacing them with NULL\n",
    "df = pd.read_csv(url, na_values=['PrivacySuppressed'])"
   ]
  },
  {
   "cell_type": "code",
   "execution_count": 14,
   "metadata": {
    "collapsed": true
   },
   "outputs": [],
   "source": [
    "df1 = df[data_columns1]"
   ]
  },
  {
   "cell_type": "code",
   "execution_count": 15,
   "metadata": {
    "collapsed": true
   },
   "outputs": [],
   "source": [
    "df1 = df1.drop(data_columns2, axis=1)"
   ]
  },
  {
   "cell_type": "code",
   "execution_count": 16,
   "metadata": {
    "collapsed": true
   },
   "outputs": [],
   "source": [
    "#adding income column to the dataframe that will be predicted using other variables\n",
    "df1['Income'] = df['MD_EARN_WNE_P10']"
   ]
  },
  {
   "cell_type": "code",
   "execution_count": 17,
   "metadata": {},
   "outputs": [
    {
     "data": {
      "text/html": [
       "<div>\n",
       "<style>\n",
       "    .dataframe thead tr:only-child th {\n",
       "        text-align: right;\n",
       "    }\n",
       "\n",
       "    .dataframe thead th {\n",
       "        text-align: left;\n",
       "    }\n",
       "\n",
       "    .dataframe tbody tr th {\n",
       "        vertical-align: top;\n",
       "    }\n",
       "</style>\n",
       "<table border=\"1\" class=\"dataframe\">\n",
       "  <thead>\n",
       "    <tr style=\"text-align: right;\">\n",
       "      <th></th>\n",
       "      <th>UNITID</th>\n",
       "      <th>OPEID</th>\n",
       "      <th>OPEID6</th>\n",
       "      <th>INSTNM</th>\n",
       "      <th>CITY</th>\n",
       "      <th>STABBR</th>\n",
       "      <th>ZIP</th>\n",
       "      <th>ACCREDAGENCY</th>\n",
       "      <th>INSTURL</th>\n",
       "      <th>NPCURL</th>\n",
       "      <th>...</th>\n",
       "      <th>TUITFTE</th>\n",
       "      <th>INEXPFTE</th>\n",
       "      <th>AVGFACSAL</th>\n",
       "      <th>PFTFAC</th>\n",
       "      <th>ALIAS</th>\n",
       "      <th>ICLEVEL</th>\n",
       "      <th>OPENADMP</th>\n",
       "      <th>ACCREDCODE</th>\n",
       "      <th>T4APPROVALDATE</th>\n",
       "      <th>Income</th>\n",
       "    </tr>\n",
       "  </thead>\n",
       "  <tbody>\n",
       "    <tr>\n",
       "      <th>0</th>\n",
       "      <td>100654</td>\n",
       "      <td>100200</td>\n",
       "      <td>1002</td>\n",
       "      <td>Alabama A &amp; M University</td>\n",
       "      <td>Normal</td>\n",
       "      <td>AL</td>\n",
       "      <td>35762</td>\n",
       "      <td>Southern Association of Colleges and Schools C...</td>\n",
       "      <td>www.aamu.edu/</td>\n",
       "      <td>www2.aamu.edu/scripts/netpricecalc/npcalc.htm</td>\n",
       "      <td>...</td>\n",
       "      <td>9657.0</td>\n",
       "      <td>7941.0</td>\n",
       "      <td>7017.0</td>\n",
       "      <td>0.7096</td>\n",
       "      <td>AAMU</td>\n",
       "      <td>1</td>\n",
       "      <td>2.0</td>\n",
       "      <td>SACSCC</td>\n",
       "      <td>12/12/1965</td>\n",
       "      <td>29900.0</td>\n",
       "    </tr>\n",
       "    <tr>\n",
       "      <th>1</th>\n",
       "      <td>100663</td>\n",
       "      <td>105200</td>\n",
       "      <td>1052</td>\n",
       "      <td>University of Alabama at Birmingham</td>\n",
       "      <td>Birmingham</td>\n",
       "      <td>AL</td>\n",
       "      <td>35294-0110</td>\n",
       "      <td>Southern Association of Colleges and Schools C...</td>\n",
       "      <td>www.uab.edu</td>\n",
       "      <td>uab.studentaidcalculator.com/survey.aspx</td>\n",
       "      <td>...</td>\n",
       "      <td>10263.0</td>\n",
       "      <td>17548.0</td>\n",
       "      <td>10221.0</td>\n",
       "      <td>0.9081</td>\n",
       "      <td>NaN</td>\n",
       "      <td>1</td>\n",
       "      <td>2.0</td>\n",
       "      <td>SACSCC</td>\n",
       "      <td>12/1/1965</td>\n",
       "      <td>40200.0</td>\n",
       "    </tr>\n",
       "    <tr>\n",
       "      <th>2</th>\n",
       "      <td>100690</td>\n",
       "      <td>2503400</td>\n",
       "      <td>25034</td>\n",
       "      <td>Amridge University</td>\n",
       "      <td>Montgomery</td>\n",
       "      <td>AL</td>\n",
       "      <td>36117-3553</td>\n",
       "      <td>Southern Association of Colleges and Schools C...</td>\n",
       "      <td>www.amridgeuniversity.edu</td>\n",
       "      <td>www2.amridgeuniversity.edu:9091/</td>\n",
       "      <td>...</td>\n",
       "      <td>17071.0</td>\n",
       "      <td>7113.0</td>\n",
       "      <td>3217.0</td>\n",
       "      <td>1.0000</td>\n",
       "      <td>Southern Christian University |Regions University</td>\n",
       "      <td>1</td>\n",
       "      <td>1.0</td>\n",
       "      <td>SACSCC</td>\n",
       "      <td>3/26/1987</td>\n",
       "      <td>40100.0</td>\n",
       "    </tr>\n",
       "    <tr>\n",
       "      <th>3</th>\n",
       "      <td>100706</td>\n",
       "      <td>105500</td>\n",
       "      <td>1055</td>\n",
       "      <td>University of Alabama in Huntsville</td>\n",
       "      <td>Huntsville</td>\n",
       "      <td>AL</td>\n",
       "      <td>35899</td>\n",
       "      <td>Southern Association of Colleges and Schools C...</td>\n",
       "      <td>www.uah.edu</td>\n",
       "      <td>finaid.uah.edu/</td>\n",
       "      <td>...</td>\n",
       "      <td>8917.0</td>\n",
       "      <td>10619.0</td>\n",
       "      <td>9514.0</td>\n",
       "      <td>0.6173</td>\n",
       "      <td>UAH |University of Alabama Huntsville</td>\n",
       "      <td>1</td>\n",
       "      <td>2.0</td>\n",
       "      <td>SACSCC</td>\n",
       "      <td>12/1/1965</td>\n",
       "      <td>45600.0</td>\n",
       "    </tr>\n",
       "    <tr>\n",
       "      <th>4</th>\n",
       "      <td>100724</td>\n",
       "      <td>100500</td>\n",
       "      <td>1005</td>\n",
       "      <td>Alabama State University</td>\n",
       "      <td>Montgomery</td>\n",
       "      <td>AL</td>\n",
       "      <td>36104-0271</td>\n",
       "      <td>Southern Association of Colleges and Schools C...</td>\n",
       "      <td>www.alasu.edu</td>\n",
       "      <td>www.alasu.edu/cost-aid/forms/calculator/index....</td>\n",
       "      <td>...</td>\n",
       "      <td>7717.0</td>\n",
       "      <td>7742.0</td>\n",
       "      <td>7940.0</td>\n",
       "      <td>0.6395</td>\n",
       "      <td>NaN</td>\n",
       "      <td>1</td>\n",
       "      <td>2.0</td>\n",
       "      <td>SACSCC</td>\n",
       "      <td>12/1/1965</td>\n",
       "      <td>26700.0</td>\n",
       "    </tr>\n",
       "  </tbody>\n",
       "</table>\n",
       "<p>5 rows × 176 columns</p>\n",
       "</div>"
      ],
      "text/plain": [
       "   UNITID    OPEID  OPEID6                               INSTNM        CITY  \\\n",
       "0  100654   100200    1002             Alabama A & M University      Normal   \n",
       "1  100663   105200    1052  University of Alabama at Birmingham  Birmingham   \n",
       "2  100690  2503400   25034                   Amridge University  Montgomery   \n",
       "3  100706   105500    1055  University of Alabama in Huntsville  Huntsville   \n",
       "4  100724   100500    1005             Alabama State University  Montgomery   \n",
       "\n",
       "  STABBR         ZIP                                       ACCREDAGENCY  \\\n",
       "0     AL       35762  Southern Association of Colleges and Schools C...   \n",
       "1     AL  35294-0110  Southern Association of Colleges and Schools C...   \n",
       "2     AL  36117-3553  Southern Association of Colleges and Schools C...   \n",
       "3     AL       35899  Southern Association of Colleges and Schools C...   \n",
       "4     AL  36104-0271  Southern Association of Colleges and Schools C...   \n",
       "\n",
       "                     INSTURL  \\\n",
       "0              www.aamu.edu/   \n",
       "1                www.uab.edu   \n",
       "2  www.amridgeuniversity.edu   \n",
       "3                www.uah.edu   \n",
       "4              www.alasu.edu   \n",
       "\n",
       "                                              NPCURL   ...     TUITFTE  \\\n",
       "0      www2.aamu.edu/scripts/netpricecalc/npcalc.htm   ...      9657.0   \n",
       "1           uab.studentaidcalculator.com/survey.aspx   ...     10263.0   \n",
       "2                   www2.amridgeuniversity.edu:9091/   ...     17071.0   \n",
       "3                                    finaid.uah.edu/   ...      8917.0   \n",
       "4  www.alasu.edu/cost-aid/forms/calculator/index....   ...      7717.0   \n",
       "\n",
       "   INEXPFTE  AVGFACSAL  PFTFAC  \\\n",
       "0    7941.0     7017.0  0.7096   \n",
       "1   17548.0    10221.0  0.9081   \n",
       "2    7113.0     3217.0  1.0000   \n",
       "3   10619.0     9514.0  0.6173   \n",
       "4    7742.0     7940.0  0.6395   \n",
       "\n",
       "                                               ALIAS  ICLEVEL  OPENADMP  \\\n",
       "0                                               AAMU        1       2.0   \n",
       "1                                                NaN        1       2.0   \n",
       "2  Southern Christian University |Regions University        1       1.0   \n",
       "3              UAH |University of Alabama Huntsville        1       2.0   \n",
       "4                                                NaN        1       2.0   \n",
       "\n",
       "   ACCREDCODE  T4APPROVALDATE   Income  \n",
       "0      SACSCC      12/12/1965  29900.0  \n",
       "1      SACSCC       12/1/1965  40200.0  \n",
       "2      SACSCC       3/26/1987  40100.0  \n",
       "3      SACSCC       12/1/1965  45600.0  \n",
       "4      SACSCC       12/1/1965  26700.0  \n",
       "\n",
       "[5 rows x 176 columns]"
      ]
     },
     "execution_count": 17,
     "metadata": {},
     "output_type": "execute_result"
    }
   ],
   "source": [
    "df1.head()"
   ]
  },
  {
   "cell_type": "code",
   "execution_count": 18,
   "metadata": {
    "collapsed": true
   },
   "outputs": [],
   "source": [
    "# separating the first digit of Zip to divide schools according to regions from 0 to 9 as categories\n",
    "df1['ZIP1'] = df1['ZIP'].map(lambda x: int(str(x)[:1]))"
   ]
  },
  {
   "cell_type": "code",
   "execution_count": 19,
   "metadata": {},
   "outputs": [
    {
     "data": {
      "text/plain": [
       "0    3\n",
       "1    3\n",
       "2    3\n",
       "3    3\n",
       "4    3\n",
       "Name: ZIP1, dtype: int64"
      ]
     },
     "execution_count": 19,
     "metadata": {},
     "output_type": "execute_result"
    }
   ],
   "source": [
    "df1['ZIP1'].head()"
   ]
  },
  {
   "cell_type": "code",
   "execution_count": 20,
   "metadata": {
    "collapsed": true
   },
   "outputs": [],
   "source": [
    "#We developed a separate table using UNITID, name, city and state since these can only be used to identify school\n",
    "schools = df1[['UNITID', 'INSTNM', 'CITY', 'STABBR']]"
   ]
  },
  {
   "cell_type": "code",
   "execution_count": 21,
   "metadata": {},
   "outputs": [
    {
     "data": {
      "text/html": [
       "<div>\n",
       "<style>\n",
       "    .dataframe thead tr:only-child th {\n",
       "        text-align: right;\n",
       "    }\n",
       "\n",
       "    .dataframe thead th {\n",
       "        text-align: left;\n",
       "    }\n",
       "\n",
       "    .dataframe tbody tr th {\n",
       "        vertical-align: top;\n",
       "    }\n",
       "</style>\n",
       "<table border=\"1\" class=\"dataframe\">\n",
       "  <thead>\n",
       "    <tr style=\"text-align: right;\">\n",
       "      <th></th>\n",
       "      <th>UNITID</th>\n",
       "      <th>INSTNM</th>\n",
       "      <th>CITY</th>\n",
       "      <th>STABBR</th>\n",
       "    </tr>\n",
       "  </thead>\n",
       "  <tbody>\n",
       "    <tr>\n",
       "      <th>0</th>\n",
       "      <td>100654</td>\n",
       "      <td>Alabama A &amp; M University</td>\n",
       "      <td>Normal</td>\n",
       "      <td>AL</td>\n",
       "    </tr>\n",
       "    <tr>\n",
       "      <th>1</th>\n",
       "      <td>100663</td>\n",
       "      <td>University of Alabama at Birmingham</td>\n",
       "      <td>Birmingham</td>\n",
       "      <td>AL</td>\n",
       "    </tr>\n",
       "    <tr>\n",
       "      <th>2</th>\n",
       "      <td>100690</td>\n",
       "      <td>Amridge University</td>\n",
       "      <td>Montgomery</td>\n",
       "      <td>AL</td>\n",
       "    </tr>\n",
       "    <tr>\n",
       "      <th>3</th>\n",
       "      <td>100706</td>\n",
       "      <td>University of Alabama in Huntsville</td>\n",
       "      <td>Huntsville</td>\n",
       "      <td>AL</td>\n",
       "    </tr>\n",
       "    <tr>\n",
       "      <th>4</th>\n",
       "      <td>100724</td>\n",
       "      <td>Alabama State University</td>\n",
       "      <td>Montgomery</td>\n",
       "      <td>AL</td>\n",
       "    </tr>\n",
       "  </tbody>\n",
       "</table>\n",
       "</div>"
      ],
      "text/plain": [
       "   UNITID                               INSTNM        CITY STABBR\n",
       "0  100654             Alabama A & M University      Normal     AL\n",
       "1  100663  University of Alabama at Birmingham  Birmingham     AL\n",
       "2  100690                   Amridge University  Montgomery     AL\n",
       "3  100706  University of Alabama in Huntsville  Huntsville     AL\n",
       "4  100724             Alabama State University  Montgomery     AL"
      ]
     },
     "execution_count": 21,
     "metadata": {},
     "output_type": "execute_result"
    }
   ],
   "source": [
    "schools.head()"
   ]
  },
  {
   "cell_type": "code",
   "execution_count": 22,
   "metadata": {
    "collapsed": true
   },
   "outputs": [],
   "source": [
    "#Deleting the columns that cant be used for model development: Zip, lat, long, opeid, opeid6, accreditor, school_url, price-calculator_url, repayment_date.median\n",
    "#separation_date.median, alias, accreditor_code, title_iv.approval_date\n",
    "other_columns = ['INSTNM', 'CITY','STABBR','OPEID', 'ST_FIPS', 'REGION', 'LOCALE', 'LOCALE2','OPEID6', 'ZIP','ACCREDAGENCY','LATITUDE', 'ALIAS','LONGITUDE', 'INSTURL','NPCURL','ACCREDCODE','T4APPROVALDATE']"
   ]
  },
  {
   "cell_type": "code",
   "execution_count": 23,
   "metadata": {
    "collapsed": true
   },
   "outputs": [],
   "source": [
    "df1.drop(other_columns, axis = 1, inplace =True)"
   ]
  },
  {
   "cell_type": "code",
   "execution_count": 24,
   "metadata": {},
   "outputs": [
    {
     "data": {
      "text/plain": [
       "(7593, 159)"
      ]
     },
     "execution_count": 24,
     "metadata": {},
     "output_type": "execute_result"
    }
   ],
   "source": [
    "df1.shape"
   ]
  },
  {
   "cell_type": "code",
   "execution_count": 25,
   "metadata": {},
   "outputs": [
    {
     "data": {
      "text/html": [
       "<div>\n",
       "<style>\n",
       "    .dataframe thead tr:only-child th {\n",
       "        text-align: right;\n",
       "    }\n",
       "\n",
       "    .dataframe thead th {\n",
       "        text-align: left;\n",
       "    }\n",
       "\n",
       "    .dataframe tbody tr th {\n",
       "        vertical-align: top;\n",
       "    }\n",
       "</style>\n",
       "<table border=\"1\" class=\"dataframe\">\n",
       "  <thead>\n",
       "    <tr style=\"text-align: right;\">\n",
       "      <th></th>\n",
       "      <th>UNITID</th>\n",
       "      <th>SCH_DEG</th>\n",
       "      <th>HCM2</th>\n",
       "      <th>MAIN</th>\n",
       "      <th>NUMBRANCH</th>\n",
       "      <th>PREDDEG</th>\n",
       "      <th>HIGHDEG</th>\n",
       "      <th>CONTROL</th>\n",
       "      <th>CCBASIC</th>\n",
       "      <th>CCUGPROF</th>\n",
       "      <th>...</th>\n",
       "      <th>TUITIONFEE_OUT</th>\n",
       "      <th>TUITIONFEE_PROG</th>\n",
       "      <th>TUITFTE</th>\n",
       "      <th>INEXPFTE</th>\n",
       "      <th>AVGFACSAL</th>\n",
       "      <th>PFTFAC</th>\n",
       "      <th>ICLEVEL</th>\n",
       "      <th>OPENADMP</th>\n",
       "      <th>Income</th>\n",
       "      <th>ZIP1</th>\n",
       "    </tr>\n",
       "  </thead>\n",
       "  <tbody>\n",
       "    <tr>\n",
       "      <th>0</th>\n",
       "      <td>100654</td>\n",
       "      <td>3.0</td>\n",
       "      <td>0</td>\n",
       "      <td>1</td>\n",
       "      <td>1</td>\n",
       "      <td>3</td>\n",
       "      <td>4</td>\n",
       "      <td>1</td>\n",
       "      <td>18.0</td>\n",
       "      <td>10.0</td>\n",
       "      <td>...</td>\n",
       "      <td>17136.0</td>\n",
       "      <td>NaN</td>\n",
       "      <td>9657.0</td>\n",
       "      <td>7941.0</td>\n",
       "      <td>7017.0</td>\n",
       "      <td>0.7096</td>\n",
       "      <td>1</td>\n",
       "      <td>2.0</td>\n",
       "      <td>29900.0</td>\n",
       "      <td>3</td>\n",
       "    </tr>\n",
       "    <tr>\n",
       "      <th>1</th>\n",
       "      <td>100663</td>\n",
       "      <td>3.0</td>\n",
       "      <td>0</td>\n",
       "      <td>1</td>\n",
       "      <td>1</td>\n",
       "      <td>3</td>\n",
       "      <td>4</td>\n",
       "      <td>1</td>\n",
       "      <td>15.0</td>\n",
       "      <td>9.0</td>\n",
       "      <td>...</td>\n",
       "      <td>17654.0</td>\n",
       "      <td>NaN</td>\n",
       "      <td>10263.0</td>\n",
       "      <td>17548.0</td>\n",
       "      <td>10221.0</td>\n",
       "      <td>0.9081</td>\n",
       "      <td>1</td>\n",
       "      <td>2.0</td>\n",
       "      <td>40200.0</td>\n",
       "      <td>3</td>\n",
       "    </tr>\n",
       "    <tr>\n",
       "      <th>2</th>\n",
       "      <td>100690</td>\n",
       "      <td>3.0</td>\n",
       "      <td>0</td>\n",
       "      <td>1</td>\n",
       "      <td>1</td>\n",
       "      <td>3</td>\n",
       "      <td>4</td>\n",
       "      <td>2</td>\n",
       "      <td>21.0</td>\n",
       "      <td>5.0</td>\n",
       "      <td>...</td>\n",
       "      <td>6900.0</td>\n",
       "      <td>NaN</td>\n",
       "      <td>17071.0</td>\n",
       "      <td>7113.0</td>\n",
       "      <td>3217.0</td>\n",
       "      <td>1.0000</td>\n",
       "      <td>1</td>\n",
       "      <td>1.0</td>\n",
       "      <td>40100.0</td>\n",
       "      <td>3</td>\n",
       "    </tr>\n",
       "    <tr>\n",
       "      <th>3</th>\n",
       "      <td>100706</td>\n",
       "      <td>3.0</td>\n",
       "      <td>0</td>\n",
       "      <td>1</td>\n",
       "      <td>1</td>\n",
       "      <td>3</td>\n",
       "      <td>4</td>\n",
       "      <td>1</td>\n",
       "      <td>15.0</td>\n",
       "      <td>9.0</td>\n",
       "      <td>...</td>\n",
       "      <td>20622.0</td>\n",
       "      <td>NaN</td>\n",
       "      <td>8917.0</td>\n",
       "      <td>10619.0</td>\n",
       "      <td>9514.0</td>\n",
       "      <td>0.6173</td>\n",
       "      <td>1</td>\n",
       "      <td>2.0</td>\n",
       "      <td>45600.0</td>\n",
       "      <td>3</td>\n",
       "    </tr>\n",
       "    <tr>\n",
       "      <th>4</th>\n",
       "      <td>100724</td>\n",
       "      <td>3.0</td>\n",
       "      <td>0</td>\n",
       "      <td>1</td>\n",
       "      <td>1</td>\n",
       "      <td>3</td>\n",
       "      <td>4</td>\n",
       "      <td>1</td>\n",
       "      <td>18.0</td>\n",
       "      <td>10.0</td>\n",
       "      <td>...</td>\n",
       "      <td>15656.0</td>\n",
       "      <td>NaN</td>\n",
       "      <td>7717.0</td>\n",
       "      <td>7742.0</td>\n",
       "      <td>7940.0</td>\n",
       "      <td>0.6395</td>\n",
       "      <td>1</td>\n",
       "      <td>2.0</td>\n",
       "      <td>26700.0</td>\n",
       "      <td>3</td>\n",
       "    </tr>\n",
       "  </tbody>\n",
       "</table>\n",
       "<p>5 rows × 159 columns</p>\n",
       "</div>"
      ],
      "text/plain": [
       "   UNITID  SCH_DEG  HCM2  MAIN  NUMBRANCH  PREDDEG  HIGHDEG  CONTROL  CCBASIC  \\\n",
       "0  100654      3.0     0     1          1        3        4        1     18.0   \n",
       "1  100663      3.0     0     1          1        3        4        1     15.0   \n",
       "2  100690      3.0     0     1          1        3        4        2     21.0   \n",
       "3  100706      3.0     0     1          1        3        4        1     15.0   \n",
       "4  100724      3.0     0     1          1        3        4        1     18.0   \n",
       "\n",
       "   CCUGPROF  ...   TUITIONFEE_OUT  TUITIONFEE_PROG  TUITFTE  INEXPFTE  \\\n",
       "0      10.0  ...          17136.0              NaN   9657.0    7941.0   \n",
       "1       9.0  ...          17654.0              NaN  10263.0   17548.0   \n",
       "2       5.0  ...           6900.0              NaN  17071.0    7113.0   \n",
       "3       9.0  ...          20622.0              NaN   8917.0   10619.0   \n",
       "4      10.0  ...          15656.0              NaN   7717.0    7742.0   \n",
       "\n",
       "   AVGFACSAL  PFTFAC  ICLEVEL  OPENADMP   Income  ZIP1  \n",
       "0     7017.0  0.7096        1       2.0  29900.0     3  \n",
       "1    10221.0  0.9081        1       2.0  40200.0     3  \n",
       "2     3217.0  1.0000        1       1.0  40100.0     3  \n",
       "3     9514.0  0.6173        1       2.0  45600.0     3  \n",
       "4     7940.0  0.6395        1       2.0  26700.0     3  \n",
       "\n",
       "[5 rows x 159 columns]"
      ]
     },
     "execution_count": 25,
     "metadata": {},
     "output_type": "execute_result"
    }
   ],
   "source": [
    "# checking head of the data\n",
    "df1.head()"
   ]
  },
  {
   "cell_type": "code",
   "execution_count": 26,
   "metadata": {},
   "outputs": [
    {
     "name": "stdout",
     "output_type": "stream",
     "text": [
      "<class 'pandas.core.frame.DataFrame'>\n",
      "RangeIndex: 7593 entries, 0 to 7592\n",
      "Columns: 159 entries, UNITID to ZIP1\n",
      "dtypes: float64(149), int64(10)\n",
      "memory usage: 9.2 MB\n"
     ]
    }
   ],
   "source": [
    "# checking the dataframe\n",
    "df1.info()"
   ]
  },
  {
   "cell_type": "code",
   "execution_count": 27,
   "metadata": {
    "collapsed": true
   },
   "outputs": [],
   "source": [
    "#setting UNITID as the index\n",
    "df1.set_index('UNITID', inplace=True)"
   ]
  },
  {
   "cell_type": "code",
   "execution_count": 28,
   "metadata": {
    "collapsed": true
   },
   "outputs": [],
   "source": [
    "#dropping rows those are null in the income column\n",
    "Inc_null = df1.Income.isnull()"
   ]
  },
  {
   "cell_type": "code",
   "execution_count": 29,
   "metadata": {
    "collapsed": true
   },
   "outputs": [],
   "source": [
    "df2 = df1.dropna(subset=['Income'], how='all')"
   ]
  },
  {
   "cell_type": "code",
   "execution_count": 30,
   "metadata": {
    "collapsed": true
   },
   "outputs": [],
   "source": [
    "#checking for columns with less than 40 percent of null data\n",
    "columns = df2.isnull().sum()/df2.shape[0]*100 < 40  "
   ]
  },
  {
   "cell_type": "code",
   "execution_count": 31,
   "metadata": {
    "collapsed": true
   },
   "outputs": [],
   "source": [
    "df3 = df2.loc[:,columns]"
   ]
  },
  {
   "cell_type": "code",
   "execution_count": 32,
   "metadata": {},
   "outputs": [
    {
     "data": {
      "text/html": [
       "<div>\n",
       "<style>\n",
       "    .dataframe thead tr:only-child th {\n",
       "        text-align: right;\n",
       "    }\n",
       "\n",
       "    .dataframe thead th {\n",
       "        text-align: left;\n",
       "    }\n",
       "\n",
       "    .dataframe tbody tr th {\n",
       "        vertical-align: top;\n",
       "    }\n",
       "</style>\n",
       "<table border=\"1\" class=\"dataframe\">\n",
       "  <thead>\n",
       "    <tr style=\"text-align: right;\">\n",
       "      <th></th>\n",
       "      <th>SCH_DEG</th>\n",
       "      <th>HCM2</th>\n",
       "      <th>MAIN</th>\n",
       "      <th>NUMBRANCH</th>\n",
       "      <th>PREDDEG</th>\n",
       "      <th>HIGHDEG</th>\n",
       "      <th>CONTROL</th>\n",
       "      <th>CCBASIC</th>\n",
       "      <th>CCUGPROF</th>\n",
       "      <th>CCSIZSET</th>\n",
       "      <th>...</th>\n",
       "      <th>TUITIONFEE_IN</th>\n",
       "      <th>TUITIONFEE_OUT</th>\n",
       "      <th>TUITFTE</th>\n",
       "      <th>INEXPFTE</th>\n",
       "      <th>AVGFACSAL</th>\n",
       "      <th>PFTFAC</th>\n",
       "      <th>ICLEVEL</th>\n",
       "      <th>OPENADMP</th>\n",
       "      <th>Income</th>\n",
       "      <th>ZIP1</th>\n",
       "    </tr>\n",
       "    <tr>\n",
       "      <th>UNITID</th>\n",
       "      <th></th>\n",
       "      <th></th>\n",
       "      <th></th>\n",
       "      <th></th>\n",
       "      <th></th>\n",
       "      <th></th>\n",
       "      <th></th>\n",
       "      <th></th>\n",
       "      <th></th>\n",
       "      <th></th>\n",
       "      <th></th>\n",
       "      <th></th>\n",
       "      <th></th>\n",
       "      <th></th>\n",
       "      <th></th>\n",
       "      <th></th>\n",
       "      <th></th>\n",
       "      <th></th>\n",
       "      <th></th>\n",
       "      <th></th>\n",
       "      <th></th>\n",
       "    </tr>\n",
       "  </thead>\n",
       "  <tbody>\n",
       "    <tr>\n",
       "      <th>100654</th>\n",
       "      <td>3.0</td>\n",
       "      <td>0</td>\n",
       "      <td>1</td>\n",
       "      <td>1</td>\n",
       "      <td>3</td>\n",
       "      <td>4</td>\n",
       "      <td>1</td>\n",
       "      <td>18.0</td>\n",
       "      <td>10.0</td>\n",
       "      <td>13.0</td>\n",
       "      <td>...</td>\n",
       "      <td>9366.0</td>\n",
       "      <td>17136.0</td>\n",
       "      <td>9657.0</td>\n",
       "      <td>7941.0</td>\n",
       "      <td>7017.0</td>\n",
       "      <td>0.7096</td>\n",
       "      <td>1</td>\n",
       "      <td>2.0</td>\n",
       "      <td>29900.0</td>\n",
       "      <td>3</td>\n",
       "    </tr>\n",
       "    <tr>\n",
       "      <th>100663</th>\n",
       "      <td>3.0</td>\n",
       "      <td>0</td>\n",
       "      <td>1</td>\n",
       "      <td>1</td>\n",
       "      <td>3</td>\n",
       "      <td>4</td>\n",
       "      <td>1</td>\n",
       "      <td>15.0</td>\n",
       "      <td>9.0</td>\n",
       "      <td>15.0</td>\n",
       "      <td>...</td>\n",
       "      <td>7766.0</td>\n",
       "      <td>17654.0</td>\n",
       "      <td>10263.0</td>\n",
       "      <td>17548.0</td>\n",
       "      <td>10221.0</td>\n",
       "      <td>0.9081</td>\n",
       "      <td>1</td>\n",
       "      <td>2.0</td>\n",
       "      <td>40200.0</td>\n",
       "      <td>3</td>\n",
       "    </tr>\n",
       "    <tr>\n",
       "      <th>100690</th>\n",
       "      <td>3.0</td>\n",
       "      <td>0</td>\n",
       "      <td>1</td>\n",
       "      <td>1</td>\n",
       "      <td>3</td>\n",
       "      <td>4</td>\n",
       "      <td>2</td>\n",
       "      <td>21.0</td>\n",
       "      <td>5.0</td>\n",
       "      <td>6.0</td>\n",
       "      <td>...</td>\n",
       "      <td>6900.0</td>\n",
       "      <td>6900.0</td>\n",
       "      <td>17071.0</td>\n",
       "      <td>7113.0</td>\n",
       "      <td>3217.0</td>\n",
       "      <td>1.0000</td>\n",
       "      <td>1</td>\n",
       "      <td>1.0</td>\n",
       "      <td>40100.0</td>\n",
       "      <td>3</td>\n",
       "    </tr>\n",
       "    <tr>\n",
       "      <th>100706</th>\n",
       "      <td>3.0</td>\n",
       "      <td>0</td>\n",
       "      <td>1</td>\n",
       "      <td>1</td>\n",
       "      <td>3</td>\n",
       "      <td>4</td>\n",
       "      <td>1</td>\n",
       "      <td>15.0</td>\n",
       "      <td>9.0</td>\n",
       "      <td>12.0</td>\n",
       "      <td>...</td>\n",
       "      <td>9128.0</td>\n",
       "      <td>20622.0</td>\n",
       "      <td>8917.0</td>\n",
       "      <td>10619.0</td>\n",
       "      <td>9514.0</td>\n",
       "      <td>0.6173</td>\n",
       "      <td>1</td>\n",
       "      <td>2.0</td>\n",
       "      <td>45600.0</td>\n",
       "      <td>3</td>\n",
       "    </tr>\n",
       "    <tr>\n",
       "      <th>100724</th>\n",
       "      <td>3.0</td>\n",
       "      <td>0</td>\n",
       "      <td>1</td>\n",
       "      <td>1</td>\n",
       "      <td>3</td>\n",
       "      <td>4</td>\n",
       "      <td>1</td>\n",
       "      <td>18.0</td>\n",
       "      <td>10.0</td>\n",
       "      <td>13.0</td>\n",
       "      <td>...</td>\n",
       "      <td>8720.0</td>\n",
       "      <td>15656.0</td>\n",
       "      <td>7717.0</td>\n",
       "      <td>7742.0</td>\n",
       "      <td>7940.0</td>\n",
       "      <td>0.6395</td>\n",
       "      <td>1</td>\n",
       "      <td>2.0</td>\n",
       "      <td>26700.0</td>\n",
       "      <td>3</td>\n",
       "    </tr>\n",
       "  </tbody>\n",
       "</table>\n",
       "<p>5 rows × 70 columns</p>\n",
       "</div>"
      ],
      "text/plain": [
       "        SCH_DEG  HCM2  MAIN  NUMBRANCH  PREDDEG  HIGHDEG  CONTROL  CCBASIC  \\\n",
       "UNITID                                                                       \n",
       "100654      3.0     0     1          1        3        4        1     18.0   \n",
       "100663      3.0     0     1          1        3        4        1     15.0   \n",
       "100690      3.0     0     1          1        3        4        2     21.0   \n",
       "100706      3.0     0     1          1        3        4        1     15.0   \n",
       "100724      3.0     0     1          1        3        4        1     18.0   \n",
       "\n",
       "        CCUGPROF  CCSIZSET  ...   TUITIONFEE_IN  TUITIONFEE_OUT  TUITFTE  \\\n",
       "UNITID                      ...                                            \n",
       "100654      10.0      13.0  ...          9366.0         17136.0   9657.0   \n",
       "100663       9.0      15.0  ...          7766.0         17654.0  10263.0   \n",
       "100690       5.0       6.0  ...          6900.0          6900.0  17071.0   \n",
       "100706       9.0      12.0  ...          9128.0         20622.0   8917.0   \n",
       "100724      10.0      13.0  ...          8720.0         15656.0   7717.0   \n",
       "\n",
       "        INEXPFTE  AVGFACSAL  PFTFAC  ICLEVEL  OPENADMP   Income  ZIP1  \n",
       "UNITID                                                                 \n",
       "100654    7941.0     7017.0  0.7096        1       2.0  29900.0     3  \n",
       "100663   17548.0    10221.0  0.9081        1       2.0  40200.0     3  \n",
       "100690    7113.0     3217.0  1.0000        1       1.0  40100.0     3  \n",
       "100706   10619.0     9514.0  0.6173        1       2.0  45600.0     3  \n",
       "100724    7742.0     7940.0  0.6395        1       2.0  26700.0     3  \n",
       "\n",
       "[5 rows x 70 columns]"
      ]
     },
     "execution_count": 32,
     "metadata": {},
     "output_type": "execute_result"
    }
   ],
   "source": [
    "df3.head()"
   ]
  },
  {
   "cell_type": "code",
   "execution_count": 33,
   "metadata": {},
   "outputs": [
    {
     "data": {
      "text/plain": [
       "(array([   0,    0,    0, ..., 5681, 5681, 5681], dtype=int64),\n",
       " array([ 19,  37,  38, ..., 152, 153, 155], dtype=int64))"
      ]
     },
     "execution_count": 33,
     "metadata": {},
     "output_type": "execute_result"
    }
   ],
   "source": [
    "#checking for nan values\n",
    "np.where(np.isnan(df2))"
   ]
  },
  {
   "cell_type": "code",
   "execution_count": 34,
   "metadata": {},
   "outputs": [
    {
     "name": "stderr",
     "output_type": "stream",
     "text": [
      "C:\\Users\\harshvardhan\\Anaconda3\\lib\\site-packages\\pandas\\core\\generic.py:3660: SettingWithCopyWarning: \n",
      "A value is trying to be set on a copy of a slice from a DataFrame\n",
      "\n",
      "See the caveats in the documentation: http://pandas.pydata.org/pandas-docs/stable/indexing.html#indexing-view-versus-copy\n",
      "  self._update_inplace(new_data)\n"
     ]
    },
    {
     "data": {
      "text/html": [
       "<div>\n",
       "<style>\n",
       "    .dataframe thead tr:only-child th {\n",
       "        text-align: right;\n",
       "    }\n",
       "\n",
       "    .dataframe thead th {\n",
       "        text-align: left;\n",
       "    }\n",
       "\n",
       "    .dataframe tbody tr th {\n",
       "        vertical-align: top;\n",
       "    }\n",
       "</style>\n",
       "<table border=\"1\" class=\"dataframe\">\n",
       "  <thead>\n",
       "    <tr style=\"text-align: right;\">\n",
       "      <th></th>\n",
       "      <th>SCH_DEG</th>\n",
       "      <th>HCM2</th>\n",
       "      <th>MAIN</th>\n",
       "      <th>NUMBRANCH</th>\n",
       "      <th>PREDDEG</th>\n",
       "      <th>HIGHDEG</th>\n",
       "      <th>CONTROL</th>\n",
       "      <th>CCBASIC</th>\n",
       "      <th>CCUGPROF</th>\n",
       "      <th>CCSIZSET</th>\n",
       "      <th>...</th>\n",
       "      <th>TUITIONFEE_IN</th>\n",
       "      <th>TUITIONFEE_OUT</th>\n",
       "      <th>TUITFTE</th>\n",
       "      <th>INEXPFTE</th>\n",
       "      <th>AVGFACSAL</th>\n",
       "      <th>PFTFAC</th>\n",
       "      <th>ICLEVEL</th>\n",
       "      <th>OPENADMP</th>\n",
       "      <th>Income</th>\n",
       "      <th>ZIP1</th>\n",
       "    </tr>\n",
       "    <tr>\n",
       "      <th>UNITID</th>\n",
       "      <th></th>\n",
       "      <th></th>\n",
       "      <th></th>\n",
       "      <th></th>\n",
       "      <th></th>\n",
       "      <th></th>\n",
       "      <th></th>\n",
       "      <th></th>\n",
       "      <th></th>\n",
       "      <th></th>\n",
       "      <th></th>\n",
       "      <th></th>\n",
       "      <th></th>\n",
       "      <th></th>\n",
       "      <th></th>\n",
       "      <th></th>\n",
       "      <th></th>\n",
       "      <th></th>\n",
       "      <th></th>\n",
       "      <th></th>\n",
       "      <th></th>\n",
       "    </tr>\n",
       "  </thead>\n",
       "  <tbody>\n",
       "    <tr>\n",
       "      <th>100654</th>\n",
       "      <td>3.0</td>\n",
       "      <td>0</td>\n",
       "      <td>1</td>\n",
       "      <td>1</td>\n",
       "      <td>3</td>\n",
       "      <td>4</td>\n",
       "      <td>1</td>\n",
       "      <td>18.0</td>\n",
       "      <td>10.0</td>\n",
       "      <td>13.0</td>\n",
       "      <td>...</td>\n",
       "      <td>9366.0</td>\n",
       "      <td>17136.0</td>\n",
       "      <td>9657.0</td>\n",
       "      <td>7941.0</td>\n",
       "      <td>7017.0</td>\n",
       "      <td>0.7096</td>\n",
       "      <td>1</td>\n",
       "      <td>2.0</td>\n",
       "      <td>29900.0</td>\n",
       "      <td>3</td>\n",
       "    </tr>\n",
       "    <tr>\n",
       "      <th>100663</th>\n",
       "      <td>3.0</td>\n",
       "      <td>0</td>\n",
       "      <td>1</td>\n",
       "      <td>1</td>\n",
       "      <td>3</td>\n",
       "      <td>4</td>\n",
       "      <td>1</td>\n",
       "      <td>15.0</td>\n",
       "      <td>9.0</td>\n",
       "      <td>15.0</td>\n",
       "      <td>...</td>\n",
       "      <td>7766.0</td>\n",
       "      <td>17654.0</td>\n",
       "      <td>10263.0</td>\n",
       "      <td>17548.0</td>\n",
       "      <td>10221.0</td>\n",
       "      <td>0.9081</td>\n",
       "      <td>1</td>\n",
       "      <td>2.0</td>\n",
       "      <td>40200.0</td>\n",
       "      <td>3</td>\n",
       "    </tr>\n",
       "    <tr>\n",
       "      <th>100690</th>\n",
       "      <td>3.0</td>\n",
       "      <td>0</td>\n",
       "      <td>1</td>\n",
       "      <td>1</td>\n",
       "      <td>3</td>\n",
       "      <td>4</td>\n",
       "      <td>2</td>\n",
       "      <td>21.0</td>\n",
       "      <td>5.0</td>\n",
       "      <td>6.0</td>\n",
       "      <td>...</td>\n",
       "      <td>6900.0</td>\n",
       "      <td>6900.0</td>\n",
       "      <td>17071.0</td>\n",
       "      <td>7113.0</td>\n",
       "      <td>3217.0</td>\n",
       "      <td>1.0000</td>\n",
       "      <td>1</td>\n",
       "      <td>1.0</td>\n",
       "      <td>40100.0</td>\n",
       "      <td>3</td>\n",
       "    </tr>\n",
       "    <tr>\n",
       "      <th>100706</th>\n",
       "      <td>3.0</td>\n",
       "      <td>0</td>\n",
       "      <td>1</td>\n",
       "      <td>1</td>\n",
       "      <td>3</td>\n",
       "      <td>4</td>\n",
       "      <td>1</td>\n",
       "      <td>15.0</td>\n",
       "      <td>9.0</td>\n",
       "      <td>12.0</td>\n",
       "      <td>...</td>\n",
       "      <td>9128.0</td>\n",
       "      <td>20622.0</td>\n",
       "      <td>8917.0</td>\n",
       "      <td>10619.0</td>\n",
       "      <td>9514.0</td>\n",
       "      <td>0.6173</td>\n",
       "      <td>1</td>\n",
       "      <td>2.0</td>\n",
       "      <td>45600.0</td>\n",
       "      <td>3</td>\n",
       "    </tr>\n",
       "    <tr>\n",
       "      <th>100724</th>\n",
       "      <td>3.0</td>\n",
       "      <td>0</td>\n",
       "      <td>1</td>\n",
       "      <td>1</td>\n",
       "      <td>3</td>\n",
       "      <td>4</td>\n",
       "      <td>1</td>\n",
       "      <td>18.0</td>\n",
       "      <td>10.0</td>\n",
       "      <td>13.0</td>\n",
       "      <td>...</td>\n",
       "      <td>8720.0</td>\n",
       "      <td>15656.0</td>\n",
       "      <td>7717.0</td>\n",
       "      <td>7742.0</td>\n",
       "      <td>7940.0</td>\n",
       "      <td>0.6395</td>\n",
       "      <td>1</td>\n",
       "      <td>2.0</td>\n",
       "      <td>26700.0</td>\n",
       "      <td>3</td>\n",
       "    </tr>\n",
       "  </tbody>\n",
       "</table>\n",
       "<p>5 rows × 70 columns</p>\n",
       "</div>"
      ],
      "text/plain": [
       "        SCH_DEG  HCM2  MAIN  NUMBRANCH  PREDDEG  HIGHDEG  CONTROL  CCBASIC  \\\n",
       "UNITID                                                                       \n",
       "100654      3.0     0     1          1        3        4        1     18.0   \n",
       "100663      3.0     0     1          1        3        4        1     15.0   \n",
       "100690      3.0     0     1          1        3        4        2     21.0   \n",
       "100706      3.0     0     1          1        3        4        1     15.0   \n",
       "100724      3.0     0     1          1        3        4        1     18.0   \n",
       "\n",
       "        CCUGPROF  CCSIZSET  ...   TUITIONFEE_IN  TUITIONFEE_OUT  TUITFTE  \\\n",
       "UNITID                      ...                                            \n",
       "100654      10.0      13.0  ...          9366.0         17136.0   9657.0   \n",
       "100663       9.0      15.0  ...          7766.0         17654.0  10263.0   \n",
       "100690       5.0       6.0  ...          6900.0          6900.0  17071.0   \n",
       "100706       9.0      12.0  ...          9128.0         20622.0   8917.0   \n",
       "100724      10.0      13.0  ...          8720.0         15656.0   7717.0   \n",
       "\n",
       "        INEXPFTE  AVGFACSAL  PFTFAC  ICLEVEL  OPENADMP   Income  ZIP1  \n",
       "UNITID                                                                 \n",
       "100654    7941.0     7017.0  0.7096        1       2.0  29900.0     3  \n",
       "100663   17548.0    10221.0  0.9081        1       2.0  40200.0     3  \n",
       "100690    7113.0     3217.0  1.0000        1       1.0  40100.0     3  \n",
       "100706   10619.0     9514.0  0.6173        1       2.0  45600.0     3  \n",
       "100724    7742.0     7940.0  0.6395        1       2.0  26700.0     3  \n",
       "\n",
       "[5 rows x 70 columns]"
      ]
     },
     "execution_count": 34,
     "metadata": {},
     "output_type": "execute_result"
    }
   ],
   "source": [
    "#filling the null data with median\n",
    "df3.fillna(df3.median(), inplace=True).head()"
   ]
  },
  {
   "cell_type": "code",
   "execution_count": 35,
   "metadata": {},
   "outputs": [
    {
     "name": "stdout",
     "output_type": "stream",
     "text": [
      "['PCIP01', 'PCIP03', 'PCIP05', 'PCIP09', 'PCIP10', 'PCIP11', 'PCIP12', 'PCIP13', 'PCIP14', 'PCIP15', 'PCIP16', 'PCIP19', 'PCIP22', 'PCIP23', 'PCIP24', 'PCIP26', 'PCIP27', 'PCIP30', 'PCIP31', 'PCIP38', 'PCIP40', 'PCIP42', 'PCIP43', 'PCIP44', 'PCIP45', 'PCIP46', 'PCIP47', 'PCIP48', 'PCIP50', 'PCIP51', 'PCIP52', 'PCIP54']\n"
     ]
    }
   ],
   "source": [
    "# finding columns (starts with 'PCIP')that represent percentage of students in different programs and those with less that 90% zeroes\n",
    "PCIP_main =  []\n",
    "for col in df2.columns:\n",
    "    if (col[:4] ==  'PCIP') and (((df2[col] == 0).sum()/df2[col].count()) < 0.9):\n",
    "        PCIP_main.append(col)\n",
    "        \n",
    "print(PCIP_main)"
   ]
  },
  {
   "cell_type": "code",
   "execution_count": 36,
   "metadata": {
    "collapsed": true
   },
   "outputs": [],
   "source": [
    "df4 = df3.drop(PCIP_main, axis =1)"
   ]
  },
  {
   "cell_type": "code",
   "execution_count": 37,
   "metadata": {
    "collapsed": true
   },
   "outputs": [],
   "source": [
    "y = df4['Income']"
   ]
  },
  {
   "cell_type": "code",
   "execution_count": 38,
   "metadata": {
    "collapsed": true
   },
   "outputs": [],
   "source": [
    "X = df4.drop('Income', axis=1)"
   ]
  },
  {
   "cell_type": "code",
   "execution_count": 39,
   "metadata": {
    "collapsed": true
   },
   "outputs": [],
   "source": [
    "#intializing random forest regressor\n",
    "clf = RandomForestRegressor()"
   ]
  },
  {
   "cell_type": "code",
   "execution_count": 40,
   "metadata": {
    "collapsed": true
   },
   "outputs": [],
   "source": [
    "# dataframe with just features that have a feature importance > .005 in the random forrest\n",
    "sfm = SelectFromModel(clf, threshold=0.005)\n",
    "sfm.fit(X, y)\n",
    "n_features = sfm.transform(X).shape[1]\n",
    "features = sfm.transform(X)"
   ]
  },
  {
   "cell_type": "code",
   "execution_count": 41,
   "metadata": {},
   "outputs": [
    {
     "data": {
      "text/plain": [
       "20"
      ]
     },
     "execution_count": 41,
     "metadata": {},
     "output_type": "execute_result"
    }
   ],
   "source": [
    "n_features"
   ]
  },
  {
   "cell_type": "code",
   "execution_count": 42,
   "metadata": {},
   "outputs": [
    {
     "data": {
      "text/plain": [
       "array([ 0,  2,  3,  4,  6,  7,  8,  9, 10, 24, 27, 28, 29, 30, 31, 32, 33,\n",
       "       34, 35, 36], dtype=int64)"
      ]
     },
     "execution_count": 42,
     "metadata": {},
     "output_type": "execute_result"
    }
   ],
   "source": [
    "sfm.get_support(indices=True)"
   ]
  },
  {
   "cell_type": "code",
   "execution_count": 43,
   "metadata": {
    "collapsed": true
   },
   "outputs": [],
   "source": [
    "df5 = df4.iloc[:,sfm.get_support(indices=True)]"
   ]
  },
  {
   "cell_type": "code",
   "execution_count": 44,
   "metadata": {},
   "outputs": [
    {
     "data": {
      "text/html": [
       "<div>\n",
       "<style>\n",
       "    .dataframe thead tr:only-child th {\n",
       "        text-align: right;\n",
       "    }\n",
       "\n",
       "    .dataframe thead th {\n",
       "        text-align: left;\n",
       "    }\n",
       "\n",
       "    .dataframe tbody tr th {\n",
       "        vertical-align: top;\n",
       "    }\n",
       "</style>\n",
       "<table border=\"1\" class=\"dataframe\">\n",
       "  <thead>\n",
       "    <tr style=\"text-align: right;\">\n",
       "      <th></th>\n",
       "      <th>SCH_DEG</th>\n",
       "      <th>MAIN</th>\n",
       "      <th>NUMBRANCH</th>\n",
       "      <th>PREDDEG</th>\n",
       "      <th>CONTROL</th>\n",
       "      <th>CCBASIC</th>\n",
       "      <th>CCUGPROF</th>\n",
       "      <th>CCSIZSET</th>\n",
       "      <th>HBCU</th>\n",
       "      <th>PCIP49</th>\n",
       "      <th>COSTT4_A</th>\n",
       "      <th>TUITIONFEE_IN</th>\n",
       "      <th>TUITIONFEE_OUT</th>\n",
       "      <th>TUITFTE</th>\n",
       "      <th>INEXPFTE</th>\n",
       "      <th>AVGFACSAL</th>\n",
       "      <th>PFTFAC</th>\n",
       "      <th>ICLEVEL</th>\n",
       "      <th>OPENADMP</th>\n",
       "      <th>Income</th>\n",
       "    </tr>\n",
       "  </thead>\n",
       "  <tbody>\n",
       "    <tr>\n",
       "      <th>count</th>\n",
       "      <td>5682.000000</td>\n",
       "      <td>5682.000000</td>\n",
       "      <td>5682.000000</td>\n",
       "      <td>5682.000000</td>\n",
       "      <td>5682.000000</td>\n",
       "      <td>5682.000000</td>\n",
       "      <td>5682.000000</td>\n",
       "      <td>5682.000000</td>\n",
       "      <td>5682.000000</td>\n",
       "      <td>5682.000000</td>\n",
       "      <td>5682.000000</td>\n",
       "      <td>5682.000000</td>\n",
       "      <td>5682.000000</td>\n",
       "      <td>5682.000000</td>\n",
       "      <td>5682.000000</td>\n",
       "      <td>5682.000000</td>\n",
       "      <td>5682.000000</td>\n",
       "      <td>5682.000000</td>\n",
       "      <td>5682.000000</td>\n",
       "      <td>5682.000000</td>\n",
       "    </tr>\n",
       "    <tr>\n",
       "      <th>mean</th>\n",
       "      <td>1.998416</td>\n",
       "      <td>0.705033</td>\n",
       "      <td>8.898803</td>\n",
       "      <td>1.881204</td>\n",
       "      <td>2.079725</td>\n",
       "      <td>9.438050</td>\n",
       "      <td>4.618092</td>\n",
       "      <td>4.815910</td>\n",
       "      <td>0.016719</td>\n",
       "      <td>0.007906</td>\n",
       "      <td>24841.648187</td>\n",
       "      <td>14128.023231</td>\n",
       "      <td>16933.383844</td>\n",
       "      <td>10318.165963</td>\n",
       "      <td>7516.398275</td>\n",
       "      <td>6365.685674</td>\n",
       "      <td>0.559107</td>\n",
       "      <td>1.724569</td>\n",
       "      <td>1.350229</td>\n",
       "      <td>33500.422386</td>\n",
       "    </tr>\n",
       "    <tr>\n",
       "      <th>std</th>\n",
       "      <td>0.858906</td>\n",
       "      <td>0.456068</td>\n",
       "      <td>24.067041</td>\n",
       "      <td>0.975570</td>\n",
       "      <td>0.854787</td>\n",
       "      <td>10.482941</td>\n",
       "      <td>5.488964</td>\n",
       "      <td>5.647347</td>\n",
       "      <td>0.128230</td>\n",
       "      <td>0.062685</td>\n",
       "      <td>10852.149585</td>\n",
       "      <td>9767.553784</td>\n",
       "      <td>8848.326199</td>\n",
       "      <td>7856.375276</td>\n",
       "      <td>9596.661897</td>\n",
       "      <td>1911.070702</td>\n",
       "      <td>0.234790</td>\n",
       "      <td>0.777019</td>\n",
       "      <td>0.477083</td>\n",
       "      <td>15444.584400</td>\n",
       "    </tr>\n",
       "    <tr>\n",
       "      <th>min</th>\n",
       "      <td>1.000000</td>\n",
       "      <td>0.000000</td>\n",
       "      <td>1.000000</td>\n",
       "      <td>0.000000</td>\n",
       "      <td>1.000000</td>\n",
       "      <td>-3.000000</td>\n",
       "      <td>-2.000000</td>\n",
       "      <td>-2.000000</td>\n",
       "      <td>0.000000</td>\n",
       "      <td>0.000000</td>\n",
       "      <td>4559.000000</td>\n",
       "      <td>580.000000</td>\n",
       "      <td>580.000000</td>\n",
       "      <td>0.000000</td>\n",
       "      <td>0.000000</td>\n",
       "      <td>1140.000000</td>\n",
       "      <td>0.000000</td>\n",
       "      <td>1.000000</td>\n",
       "      <td>1.000000</td>\n",
       "      <td>9100.000000</td>\n",
       "    </tr>\n",
       "    <tr>\n",
       "      <th>25%</th>\n",
       "      <td>1.000000</td>\n",
       "      <td>0.000000</td>\n",
       "      <td>1.000000</td>\n",
       "      <td>1.000000</td>\n",
       "      <td>1.000000</td>\n",
       "      <td>-3.000000</td>\n",
       "      <td>-2.000000</td>\n",
       "      <td>-2.000000</td>\n",
       "      <td>0.000000</td>\n",
       "      <td>0.000000</td>\n",
       "      <td>19955.750000</td>\n",
       "      <td>8061.250000</td>\n",
       "      <td>12975.000000</td>\n",
       "      <td>4766.250000</td>\n",
       "      <td>4026.750000</td>\n",
       "      <td>5515.250000</td>\n",
       "      <td>0.444550</td>\n",
       "      <td>1.000000</td>\n",
       "      <td>1.000000</td>\n",
       "      <td>24100.000000</td>\n",
       "    </tr>\n",
       "    <tr>\n",
       "      <th>50%</th>\n",
       "      <td>2.000000</td>\n",
       "      <td>1.000000</td>\n",
       "      <td>1.000000</td>\n",
       "      <td>2.000000</td>\n",
       "      <td>2.000000</td>\n",
       "      <td>10.000000</td>\n",
       "      <td>4.000000</td>\n",
       "      <td>4.000000</td>\n",
       "      <td>0.000000</td>\n",
       "      <td>0.000000</td>\n",
       "      <td>23413.000000</td>\n",
       "      <td>12672.000000</td>\n",
       "      <td>15352.000000</td>\n",
       "      <td>9352.000000</td>\n",
       "      <td>5998.000000</td>\n",
       "      <td>6168.000000</td>\n",
       "      <td>0.541100</td>\n",
       "      <td>2.000000</td>\n",
       "      <td>1.000000</td>\n",
       "      <td>31100.000000</td>\n",
       "    </tr>\n",
       "    <tr>\n",
       "      <th>75%</th>\n",
       "      <td>3.000000</td>\n",
       "      <td>1.000000</td>\n",
       "      <td>4.000000</td>\n",
       "      <td>3.000000</td>\n",
       "      <td>3.000000</td>\n",
       "      <td>19.000000</td>\n",
       "      <td>10.000000</td>\n",
       "      <td>9.000000</td>\n",
       "      <td>0.000000</td>\n",
       "      <td>0.000000</td>\n",
       "      <td>26781.750000</td>\n",
       "      <td>15675.000000</td>\n",
       "      <td>18048.000000</td>\n",
       "      <td>14020.750000</td>\n",
       "      <td>8426.750000</td>\n",
       "      <td>6869.750000</td>\n",
       "      <td>0.642850</td>\n",
       "      <td>2.000000</td>\n",
       "      <td>2.000000</td>\n",
       "      <td>39500.000000</td>\n",
       "    </tr>\n",
       "    <tr>\n",
       "      <th>max</th>\n",
       "      <td>3.000000</td>\n",
       "      <td>1.000000</td>\n",
       "      <td>135.000000</td>\n",
       "      <td>4.000000</td>\n",
       "      <td>3.000000</td>\n",
       "      <td>33.000000</td>\n",
       "      <td>15.000000</td>\n",
       "      <td>18.000000</td>\n",
       "      <td>1.000000</td>\n",
       "      <td>1.000000</td>\n",
       "      <td>67572.000000</td>\n",
       "      <td>53000.000000</td>\n",
       "      <td>53000.000000</td>\n",
       "      <td>147403.000000</td>\n",
       "      <td>393969.000000</td>\n",
       "      <td>26084.000000</td>\n",
       "      <td>1.000000</td>\n",
       "      <td>3.000000</td>\n",
       "      <td>2.000000</td>\n",
       "      <td>250000.000000</td>\n",
       "    </tr>\n",
       "  </tbody>\n",
       "</table>\n",
       "</div>"
      ],
      "text/plain": [
       "           SCH_DEG         MAIN    NUMBRANCH      PREDDEG      CONTROL  \\\n",
       "count  5682.000000  5682.000000  5682.000000  5682.000000  5682.000000   \n",
       "mean      1.998416     0.705033     8.898803     1.881204     2.079725   \n",
       "std       0.858906     0.456068    24.067041     0.975570     0.854787   \n",
       "min       1.000000     0.000000     1.000000     0.000000     1.000000   \n",
       "25%       1.000000     0.000000     1.000000     1.000000     1.000000   \n",
       "50%       2.000000     1.000000     1.000000     2.000000     2.000000   \n",
       "75%       3.000000     1.000000     4.000000     3.000000     3.000000   \n",
       "max       3.000000     1.000000   135.000000     4.000000     3.000000   \n",
       "\n",
       "           CCBASIC     CCUGPROF     CCSIZSET         HBCU       PCIP49  \\\n",
       "count  5682.000000  5682.000000  5682.000000  5682.000000  5682.000000   \n",
       "mean      9.438050     4.618092     4.815910     0.016719     0.007906   \n",
       "std      10.482941     5.488964     5.647347     0.128230     0.062685   \n",
       "min      -3.000000    -2.000000    -2.000000     0.000000     0.000000   \n",
       "25%      -3.000000    -2.000000    -2.000000     0.000000     0.000000   \n",
       "50%      10.000000     4.000000     4.000000     0.000000     0.000000   \n",
       "75%      19.000000    10.000000     9.000000     0.000000     0.000000   \n",
       "max      33.000000    15.000000    18.000000     1.000000     1.000000   \n",
       "\n",
       "           COSTT4_A  TUITIONFEE_IN  TUITIONFEE_OUT        TUITFTE  \\\n",
       "count   5682.000000    5682.000000     5682.000000    5682.000000   \n",
       "mean   24841.648187   14128.023231    16933.383844   10318.165963   \n",
       "std    10852.149585    9767.553784     8848.326199    7856.375276   \n",
       "min     4559.000000     580.000000      580.000000       0.000000   \n",
       "25%    19955.750000    8061.250000    12975.000000    4766.250000   \n",
       "50%    23413.000000   12672.000000    15352.000000    9352.000000   \n",
       "75%    26781.750000   15675.000000    18048.000000   14020.750000   \n",
       "max    67572.000000   53000.000000    53000.000000  147403.000000   \n",
       "\n",
       "            INEXPFTE     AVGFACSAL       PFTFAC      ICLEVEL     OPENADMP  \\\n",
       "count    5682.000000   5682.000000  5682.000000  5682.000000  5682.000000   \n",
       "mean     7516.398275   6365.685674     0.559107     1.724569     1.350229   \n",
       "std      9596.661897   1911.070702     0.234790     0.777019     0.477083   \n",
       "min         0.000000   1140.000000     0.000000     1.000000     1.000000   \n",
       "25%      4026.750000   5515.250000     0.444550     1.000000     1.000000   \n",
       "50%      5998.000000   6168.000000     0.541100     2.000000     1.000000   \n",
       "75%      8426.750000   6869.750000     0.642850     2.000000     2.000000   \n",
       "max    393969.000000  26084.000000     1.000000     3.000000     2.000000   \n",
       "\n",
       "              Income  \n",
       "count    5682.000000  \n",
       "mean    33500.422386  \n",
       "std     15444.584400  \n",
       "min      9100.000000  \n",
       "25%     24100.000000  \n",
       "50%     31100.000000  \n",
       "75%     39500.000000  \n",
       "max    250000.000000  "
      ]
     },
     "execution_count": 44,
     "metadata": {},
     "output_type": "execute_result"
    }
   ],
   "source": [
    "df5.describe()"
   ]
  },
  {
   "cell_type": "code",
   "execution_count": 45,
   "metadata": {},
   "outputs": [
    {
     "data": {
      "text/plain": [
       "Index(['SCH_DEG', 'MAIN', 'NUMBRANCH', 'PREDDEG', 'CONTROL', 'CCBASIC',\n",
       "       'CCUGPROF', 'CCSIZSET', 'HBCU', 'PCIP49', 'COSTT4_A', 'TUITIONFEE_IN',\n",
       "       'TUITIONFEE_OUT', 'TUITFTE', 'INEXPFTE', 'AVGFACSAL', 'PFTFAC',\n",
       "       'ICLEVEL', 'OPENADMP', 'Income'],\n",
       "      dtype='object')"
      ]
     },
     "execution_count": 45,
     "metadata": {},
     "output_type": "execute_result"
    }
   ],
   "source": [
    "df5.columns"
   ]
  },
  {
   "cell_type": "code",
   "execution_count": 46,
   "metadata": {},
   "outputs": [
    {
     "data": {
      "image/png": "[encoded data removed]",
      "text/plain": [
       "<matplotlib.figure.Figure at 0x25001d36a0>"
      ]
     },
     "metadata": {},
     "output_type": "display_data"
    }
   ],
   "source": [
    "#checking covariance using heatmap\n",
    "corr = df5.corr()\n",
    "_ = plt.figure(figsize = (8,8))\n",
    "_ = sns.heatmap(corr, xticklabels=corr.columns, yticklabels=corr.columns)"
   ]
  },
  {
   "cell_type": "markdown",
   "metadata": {},
   "source": [
    "The heatmap above shows that average cost of attendance (COSTT4_A) and tution Fee (TUTIONFEE_IN) are highly correlated. So we can look into it more using scatter plot and regression line."
   ]
  },
  {
   "cell_type": "code",
   "execution_count": 47,
   "metadata": {},
   "outputs": [
    {
     "data": {
      "image/png": "[encoded data removed]",
      "text/plain": [
       "<matplotlib.figure.Figure at 0x2500034d68>"
      ]
     },
     "metadata": {},
     "output_type": "display_data"
    }
   ],
   "source": [
    "_ = sns.lmplot(x='COSTT4_A', y='TUITIONFEE_IN', data=df5)"
   ]
  },
  {
   "cell_type": "markdown",
   "metadata": {},
   "source": [
    "The lmplot further confirms that both average cost of attendance are stronly correlated. This suggest that we can use one variable TUTIONFEE_IN to avoid multicollinearity."
   ]
  },
  {
   "cell_type": "code",
   "execution_count": 48,
   "metadata": {},
   "outputs": [
    {
     "data": {
      "image/png": "[encoded data removed]",
      "text/plain": [
       "<matplotlib.figure.Figure at 0x25024bd668>"
      ]
     },
     "metadata": {},
     "output_type": "display_data"
    }
   ],
   "source": [
    "fig, (ax1,ax2,ax3) = plt.subplots(ncols=3, figsize=(15,5))\n",
    "_ = sns.countplot(x='CONTROL', data=df5, ax=ax1)\n",
    "_ = sns.countplot(x='ICLEVEL', data=df5, orient=\"v\", ax=ax2)\n",
    "_ = sns.countplot(x='ICLEVEL', data=df5, hue='CONTROL', ax=ax3)"
   ]
  },
  {
   "cell_type": "markdown",
   "metadata": {},
   "source": [
    "In the above count plots CONTROL variable represent control of institution (1:Public, 2:Private Non-profit, 3:Private for-profit), ICLEVEL represents level of instituion (1: 4-year, 2:2year, 3:less than 2years).\n",
    "\n",
    "One of the things that can be noticed clearly from the above plots is that the number of 4-year intitutions are higher than the other two categories. Another interesting observation from the 3rd plot is that colleges offering less than 2-year courses are mostly private institutions that are operated for profit."
   ]
  },
  {
   "cell_type": "code",
   "execution_count": 49,
   "metadata": {},
   "outputs": [
    {
     "data": {
      "image/png": "[encoded data removed]",
      "text/plain": [
       "<matplotlib.figure.Figure at 0x2502ca7a58>"
      ]
     },
     "metadata": {},
     "output_type": "display_data"
    }
   ],
   "source": [
    "_ = sns.lmplot(x='TUITIONFEE_IN', y='Income', hue='CONTROL', data=df5)"
   ]
  },
  {
   "cell_type": "code",
   "execution_count": 50,
   "metadata": {},
   "outputs": [
    {
     "data": {
      "image/png": "[encoded data removed]",
      "text/plain": [
       "<matplotlib.figure.Figure at 0x2502c911d0>"
      ]
     },
     "metadata": {},
     "output_type": "display_data"
    }
   ],
   "source": [
    "_ = sns.lmplot(x='TUITIONFEE_IN', y='Income', hue='ICLEVEL', data=df5)"
   ]
  },
  {
   "cell_type": "markdown",
   "metadata": {},
   "source": [
    "From the above plots it is hard to tell if there are any clear trends between the tuition fee (instate) and Income for colleges under different controls (public or private) or different ICLEVEL. We do notice a group of colleges with same tuition fee having high variablity of income. Upon further investigation it was noticed that these are the colleges with missing tuition and were filled with median tuition."
   ]
  },
  {
   "cell_type": "code",
   "execution_count": 51,
   "metadata": {},
   "outputs": [
    {
     "data": {
      "image/png": "[encoded data removed]",
      "text/plain": [
       "<matplotlib.figure.Figure at 0x25024d4048>"
      ]
     },
     "metadata": {},
     "output_type": "display_data"
    }
   ],
   "source": [
    "fig, (ax1,ax2,ax3) = plt.subplots(ncols=3, sharey=True, figsize=(14,5))\n",
    "_ = sns.regplot(x='TUITFTE', y='Income', data=df5, ax=ax1)\n",
    "_ = sns.regplot(x='INEXPFTE', y='Income', data=df5, ax=ax2)\n",
    "_ = sns.regplot(x='AVGFACSAL', y='Income',data=df5, ax=ax3)"
   ]
  },
  {
   "cell_type": "markdown",
   "metadata": {},
   "source": [
    "It is interesting to see that there appears to be a positive correlation between average faculty salary (AVGFACSAL), Instructional expenditures per full-time equivalent student (INEXPFTE), Net tuition revenue per full-time equivalent student (TUITFTE),  and the median income. Which suggest if schools focus more on spending on the faculty and other instructional expenditures, the quality of education will be better resulting in students earning more salary after they graduate."
   ]
  },
  {
   "cell_type": "code",
   "execution_count": 52,
   "metadata": {},
   "outputs": [
    {
     "data": {
      "image/png": "[encoded data removed]",
      "text/plain": [
       "<matplotlib.figure.Figure at 0x25024e2ba8>"
      ]
     },
     "metadata": {},
     "output_type": "display_data"
    }
   ],
   "source": [
    "fig, (ax1,ax2) = plt.subplots(ncols=2, sharey=True, figsize=(17,5))\n",
    "\n",
    "_ = sns.violinplot(x='PREDDEG', y='Income', data=df5, ax=ax1)\n",
    "_ = sns.violinplot(x='SCH_DEG', y='Income', data=df5, ax=ax2)\n"
   ]
  },
  {
   "cell_type": "raw",
   "metadata": {},
   "source": [
    "From the violinplot above between Income and type of degree awarded (PREDDEG, e.g. 1.certificate, 2.associate, 3.bachelor, 4.graduate) it can be seen that the colleges that predominantly award graduate level degrees have median salaries higher as compared to other colleges.\n",
    "\n",
    "The second plot showing median Incomes of colleges based on degrees awarded(SCHDEG) does not show substantial difference. Although further testing is necessary to make any conclusions."
   ]
  },
  {
   "cell_type": "code",
   "execution_count": 53,
   "metadata": {},
   "outputs": [
    {
     "data": {
      "image/png": "[encoded data removed]",
      "text/plain": [
       "<matplotlib.figure.Figure at 0x2502beccc0>"
      ]
     },
     "metadata": {},
     "output_type": "display_data"
    }
   ],
   "source": [
    "_ =sns.violinplot(x='CCBASIC', y='Income', data=df5)\n",
    "_ =sns.set(rc={'figure.figsize':(18,5)})"
   ]
  },
  {
   "cell_type": "markdown",
   "metadata": {},
   "source": [
    "The above plot shows the income spread for different colleges based on their carnegie classification. While most of the colleges does not show big differences in their median income salary, it is evident from the plot that average of the median salaries for students graduating from doctoral universities that focus more research is more than 100k."
   ]
  },
  {
   "cell_type": "code",
   "execution_count": 55,
   "metadata": {},
   "outputs": [
    {
     "data": {
      "image/png": "[encoded data removed]",
      "text/plain": [
       "<matplotlib.figure.Figure at 0x2510649cf8>"
      ]
     },
     "metadata": {},
     "output_type": "display_data"
    }
   ],
   "source": [
    "_ = sns.boxplot(x='MAIN', y='Income',data=df5)\n",
    "_ = sns.set(rc={'figure.figsize':(6,5)})"
   ]
  },
  {
   "cell_type": "code",
   "execution_count": 56,
   "metadata": {},
   "outputs": [
    {
     "data": {
      "image/png": "[encoded data removed]",
      "text/plain": [
       "<matplotlib.figure.Figure at 0x25024890b8>"
      ]
     },
     "metadata": {},
     "output_type": "display_data"
    }
   ],
   "source": [
    "_ = sns.lmplot(x='NUMBRANCH', y='Income', data=df5)"
   ]
  },
  {
   "cell_type": "markdown",
   "metadata": {},
   "source": [
    "Above plot reveals that there is group of colleges with 1 branch that have high variability of Income. Upon further investigation it was noticed that this group is for the colleges that had missing NUMBRANCH and were filled using the median.\n",
    "\n",
    "So, we might have to drop this variable or fill the missing NUMBRANCH using a different criteria."
   ]
  },
  {
   "cell_type": "code",
   "execution_count": 57,
   "metadata": {},
   "outputs": [
    {
     "data": {
      "image/png": "[encoded data removed]",
      "text/plain": [
       "<matplotlib.figure.Figure at 0x25025436a0>"
      ]
     },
     "metadata": {},
     "output_type": "display_data"
    }
   ],
   "source": [
    "fig, (ax1,ax2) = plt.subplots(ncols=2, sharey=True, figsize=(14,5))\n",
    "_ = sns.regplot(x='PCIP49', y='Income', data=df5, ax=ax1)\n",
    "_ = sns.regplot(x='PFTFAC', y='Income', data=df5, ax=ax2)"
   ]
  },
  {
   "cell_type": "markdown",
   "metadata": {
    "collapsed": true
   },
   "source": [
    "It was noticed that several colleges had missing or 0 PCIP values resulting in a group of colleges with high income variability. \n",
    "\n",
    "Also there was no clear trend between proportion of faculty that are permanent (PFTAC) and median income."
   ]
  },
  {
   "cell_type": "markdown",
   "metadata": {},
   "source": [
    "Inferential statistics."
   ]
  },
  {
   "cell_type": "markdown",
   "metadata": {},
   "source": [
    "    Check the collinearity between cost of attendance and tution fee"
   ]
  },
  {
   "cell_type": "markdown",
   "metadata": {},
   "source": [
    "    Null hypothesis: Cost of attendance and tution fee are completely uncorrelated\n",
    "    Alternate hypothesis: Cost of attendance and tution fee are correlated"
   ]
  },
  {
   "cell_type": "code",
   "execution_count": 58,
   "metadata": {},
   "outputs": [
    {
     "name": "stdout",
     "output_type": "stream",
     "text": [
      "0.968703429182\n"
     ]
    }
   ],
   "source": [
    "#calculate observed pearson correlation coefficient: obs_r \n",
    "x = df5['COSTT4_A']\n",
    "y = df5['TUITIONFEE_IN']\n",
    "obs_r = np.corrcoef(x,y)[0,1]\n",
    "print(obs_r)"
   ]
  },
  {
   "cell_type": "code",
   "execution_count": 59,
   "metadata": {
    "collapsed": true
   },
   "outputs": [],
   "source": [
    "alpha = 0.05"
   ]
  },
  {
   "cell_type": "code",
   "execution_count": 60,
   "metadata": {
    "collapsed": true
   },
   "outputs": [],
   "source": [
    "#test the hypothesis \n",
    "#initialize the permutation replicates for correlation coefficients: per_coef\n",
    "per_coef = np.empty(10000)\n",
    "\n",
    "#draw replicates\n",
    "for i in range(10000):\n",
    "    #generate permutation for cost of admission: perm_cost\n",
    "    perm_cost = np.random.permutation(x)\n",
    "    \n",
    "    #compute correlation coefficients for permuted costs and tution fee\n",
    "    per_coef[i] = np.corrcoef(perm_cost, y)[0,1]\n",
    "    \n",
    "#calculate p-value\n",
    "p_coef = np.sum(per_coef >= obs_r)/len(per_coef)"
   ]
  },
  {
   "cell_type": "code",
   "execution_count": 61,
   "metadata": {},
   "outputs": [
    {
     "name": "stdout",
     "output_type": "stream",
     "text": [
      "We can reject the null hypothesis at alpha=0.05 with p-value = 0.0\n"
     ]
    }
   ],
   "source": [
    "if p_coef <= alpha:\n",
    "    print('We can reject the null hypothesis at alpha=0.05 with p-value = ' + str(p_coef))\n",
    "else:\n",
    "    print('We cannot reject the null hypothesis at alpha=0.05 with p-value = ' + str(p_coef))"
   ]
  },
  {
   "cell_type": "markdown",
   "metadata": {},
   "source": [
    "From the above the hypothesis we can say that cost of attendance and tution fee are significantly correlated. Since the estimated r-square value is really high (approx 0.97) we can say that the correlation between cost of attendance and tution fee is also practically signifcant"
   ]
  },
  {
   "cell_type": "markdown",
   "metadata": {},
   "source": [
    "    "
   ]
  },
  {
   "cell_type": "markdown",
   "metadata": {},
   "source": [
    "    Null hypothesis: students from graduate level colleges have similar salaries to students from other colleges\n",
    "    Alternate hypothesis: students from graduate level colleges have higher salaries compared to students from other colleges"
   ]
  },
  {
   "cell_type": "code",
   "execution_count": 62,
   "metadata": {},
   "outputs": [
    {
     "name": "stdout",
     "output_type": "stream",
     "text": [
      "33500.42238648363\n"
     ]
    }
   ],
   "source": [
    "#mean of salaries from all the colleges\n",
    "obs_mean_all = np.mean(df5['Income'])\n",
    "print(obs_mean_all)"
   ]
  },
  {
   "cell_type": "code",
   "execution_count": 63,
   "metadata": {},
   "outputs": [
    {
     "name": "stdout",
     "output_type": "stream",
     "text": [
      "94447.05882352941\n"
     ]
    }
   ],
   "source": [
    "#sepearte income of colleges offering predominantly graduate degrees and get there mean\n",
    "df5_graduate = df5[df5['PREDDEG']==4]['Income']\n",
    "df5_grad_mean = np.mean(df5_graduate)\n",
    "print(df5_grad_mean)"
   ]
  },
  {
   "cell_type": "code",
   "execution_count": 64,
   "metadata": {},
   "outputs": [
    {
     "name": "stdout",
     "output_type": "stream",
     "text": [
      "32762.20163876024\n"
     ]
    }
   ],
   "source": [
    "#sepearte income of colleges offering predominantly other degrees and get there mean\n",
    "df5_other_degrees = df5[df5['PREDDEG'] !=4]['Income']\n",
    "df5_oth_mean = np.mean(df5_other_degrees)\n",
    "print(df5_oth_mean)"
   ]
  },
  {
   "cell_type": "code",
   "execution_count": 65,
   "metadata": {},
   "outputs": [
    {
     "name": "stdout",
     "output_type": "stream",
     "text": [
      "61684.85718476917\n"
     ]
    }
   ],
   "source": [
    "#calculate empirical difference in mean\n",
    "emp_mean_diff = df5_grad_mean - df5_oth_mean\n",
    "print(emp_mean_diff)"
   ]
  },
  {
   "cell_type": "code",
   "execution_count": 66,
   "metadata": {
    "collapsed": true
   },
   "outputs": [],
   "source": [
    "#shift both the dataset to have similar mean\n",
    "df5_grad_shifted = df5_graduate - df5_grad_mean + obs_mean_all\n",
    "df5_oth_shifted = df5_other_degrees - df5_oth_mean + obs_mean_all"
   ]
  },
  {
   "cell_type": "code",
   "execution_count": 67,
   "metadata": {
    "collapsed": true
   },
   "outputs": [],
   "source": [
    "#bootstrap method to generate bootstrap replicates\n",
    "def bs_rep(data, func, size=1):\n",
    "    #initialize an empty array \n",
    "    bs_replicates = np.empty(size)\n",
    "    \n",
    "    for i in range(size):\n",
    "        bs_sample = np.random.choice(data, len(data))\n",
    "        bs_replicates[i] = func(bs_sample)\n",
    "    return bs_replicates"
   ]
  },
  {
   "cell_type": "code",
   "execution_count": 68,
   "metadata": {
    "collapsed": true
   },
   "outputs": [],
   "source": [
    "#draw bootstrap replicates of shifted means\n",
    "bs_grad_shifted = bs_rep(df5_grad_shifted, np.mean, 10000)\n",
    "bs_oth_shifted = bs_rep(df5_oth_shifted, np.mean, 10000)"
   ]
  },
  {
   "cell_type": "code",
   "execution_count": 69,
   "metadata": {
    "collapsed": true
   },
   "outputs": [],
   "source": [
    "#calculate differences in replicates\n",
    "bs_diff_mean = bs_grad_shifted - bs_oth_shifted"
   ]
  },
  {
   "cell_type": "code",
   "execution_count": 70,
   "metadata": {},
   "outputs": [
    {
     "name": "stdout",
     "output_type": "stream",
     "text": [
      "We can reject the null hypothesis at alpha=0.05 with p-value = 0.0\n"
     ]
    }
   ],
   "source": [
    "#calculate p-value and compare with alpha\n",
    "p = np.sum(bs_diff_mean >= emp_mean_diff)/len(bs_diff_mean)\n",
    "\n",
    "if p <= alpha:\n",
    "    print('We can reject the null hypothesis at alpha=0.05 with p-value = ' + str(p))\n",
    "else:\n",
    "    print('We cannot reject the null hypothesis at alpha=0.05 with p-value = ' + str(p))"
   ]
  },
  {
   "cell_type": "code",
   "execution_count": 71,
   "metadata": {},
   "outputs": [
    {
     "name": "stdout",
     "output_type": "stream",
     "text": [
      "36.3412954344 3.43478996627e-260\n",
      "We can reject the null hypothesis at alpha=0.05 with p-value = 3.43478996627e-260\n"
     ]
    }
   ],
   "source": [
    "#use stats package to double check the results\n",
    "t1, p1 = stats.ttest_ind(df5_graduate, df5_other_degrees)\n",
    "\n",
    "print(t1, p1)\n",
    "if p1 <= alpha:\n",
    "    print('We can reject the null hypothesis at alpha=0.05 with p-value = ' + str(p1))\n",
    "else:\n",
    "    print('We cannot reject the null hypothesis at alpha=0.05 with p-value = ' + str(p1))"
   ]
  },
  {
   "cell_type": "markdown",
   "metadata": {},
   "source": [
    "Both the bootstrap test and 2-sample ttest using stats package suggest that the salaries for students graduating from colleges offering graduate level degrees is significantly higher as compared to students graduating from other colleges. \n",
    "The empirical difference between the means is approx $61,685 suggesting that the difference is pratically significant as well."
   ]
  },
  {
   "cell_type": "markdown",
   "metadata": {},
   "source": [
    "    Check the normality of the Income data\n",
    "        Null hypothesis: Income data is normally distributed\n",
    "        Alternate hypothesis: Income data is not normally distributed"
   ]
  },
  {
   "cell_type": "code",
   "execution_count": 72,
   "metadata": {},
   "outputs": [
    {
     "data": {
      "image/png": "[encoded data removed]",
      "text/plain": [
       "<matplotlib.figure.Figure at 0x2502d52b70>"
      ]
     },
     "metadata": {},
     "output_type": "display_data"
    }
   ],
   "source": [
    "#draw a histogram to check the distribution of income\n",
    "_ = sns.distplot(df5['Income'], bins=30, kde=False)"
   ]
  },
  {
   "cell_type": "code",
   "execution_count": 73,
   "metadata": {
    "collapsed": true
   },
   "outputs": [],
   "source": [
    "#plot the ecdf of observed data and compare it with the theoritical ecdf\n",
    "#define function to calculate x and y variables for plotting ecdf\n",
    "\n",
    "def ecdf(data):\n",
    "    x = np.sort(data)\n",
    "    y = np.arange(1, len(data)+1)/len(data)\n",
    "    return x, y"
   ]
  },
  {
   "cell_type": "code",
   "execution_count": 74,
   "metadata": {
    "collapsed": true
   },
   "outputs": [],
   "source": [
    "#x and y for plotting ecdf of observed data\n",
    "x_obs, y_obs = ecdf(df5.Income)"
   ]
  },
  {
   "cell_type": "code",
   "execution_count": 75,
   "metadata": {
    "collapsed": true
   },
   "outputs": [],
   "source": [
    "#estimate x and y for theoritical samples for ecdf\n",
    "mean = np.mean(df5.Income)\n",
    "std = np.std(df5.Income)\n",
    "samples = np.random.normal(mean, std, 10000)\n",
    "\n",
    "x_theo, y_theo = ecdf(samples)"
   ]
  },
  {
   "cell_type": "code",
   "execution_count": 76,
   "metadata": {},
   "outputs": [
    {
     "data": {
      "image/png": "[encoded data removed]",
      "text/plain": [
       "<matplotlib.figure.Figure at 0x2502c64550>"
      ]
     },
     "metadata": {},
     "output_type": "display_data"
    }
   ],
   "source": [
    "#plot ecdfs using the actual and theoritical observations \n",
    "_ = plt.plot(x_obs, y_obs, marker='.', linestyle='none')\n",
    "_ = plt.plot(x_theo, y_theo)"
   ]
  },
  {
   "cell_type": "code",
   "execution_count": 77,
   "metadata": {},
   "outputs": [
    {
     "name": "stdout",
     "output_type": "stream",
     "text": [
      "40450785.4663 0.0\n"
     ]
    }
   ],
   "source": [
    "chi, p_income = stats.chisquare(df5.Income)\n",
    "print(chi, p_income)"
   ]
  },
  {
   "cell_type": "code",
   "execution_count": 78,
   "metadata": {},
   "outputs": [
    {
     "name": "stdout",
     "output_type": "stream",
     "text": [
      "We can reject the null hypothesis at alpha=0.05 with p-value = 0.0\n"
     ]
    }
   ],
   "source": [
    "if p_income <= alpha:\n",
    "    print('We can reject the null hypothesis at alpha=0.05 with p-value = ' + str(p_income))\n",
    "else:\n",
    "    print('We cannot reject the null hypothesis at alpha=0.05 with p-value = ' + str(p_income))"
   ]
  },
  {
   "cell_type": "markdown",
   "metadata": {},
   "source": [
    "Both graphically and chi square test suggest that the data is not normally distributed. The plots also suggest that while the data in the middle follow a normal trend. The income for colleges at the extreme low and high ends deviate the plot from being normally distributed."
   ]
  },
  {
   "cell_type": "code",
   "execution_count": 79,
   "metadata": {
    "collapsed": true
   },
   "outputs": [],
   "source": [
    "#get lof of income data\n",
    "log_inc = np.log(df5.Income)"
   ]
  },
  {
   "cell_type": "code",
   "execution_count": 80,
   "metadata": {},
   "outputs": [
    {
     "data": {
      "image/png": "[encoded data removed]",
      "text/plain": [
       "<matplotlib.figure.Figure at 0x25004c6f98>"
      ]
     },
     "metadata": {},
     "output_type": "display_data"
    }
   ],
   "source": [
    "#plot ecdf for log of Income\n",
    "x_log, y_log = ecdf(log_inc)\n",
    "x_theo_log, y_theo_log = ecdf(np.random.normal(np.mean(log_inc), np.std(log_inc), 10000))\n",
    "\n",
    "_ = plt.plot(x_log, y_log, marker='.', linestyle='none')\n",
    "_ = plt.plot(x_theo_log, y_theo_log)"
   ]
  },
  {
   "cell_type": "code",
   "execution_count": 81,
   "metadata": {},
   "outputs": [
    {
     "name": "stdout",
     "output_type": "stream",
     "text": [
      "81.1668617712 1.0\n"
     ]
    }
   ],
   "source": [
    "#chi square test to check normality of lof of income\n",
    "chi1, p_log_inc = stats.chisquare(log_inc)\n",
    "print(chi1, p_log_inc)"
   ]
  },
  {
   "cell_type": "markdown",
   "metadata": {},
   "source": [
    "Both the ecdf plots and chi-square test suggest that Income data is normally distributed after log transformation."
   ]
  },
  {
   "cell_type": "markdown",
   "metadata": {},
   "source": [
    "Developing Random Forest Regressor and Elastic Net Models using Grid Search method and comparing the model performances"
   ]
  },
  {
   "cell_type": "code",
   "execution_count": 189,
   "metadata": {},
   "outputs": [],
   "source": [
    "#specify independent and response/dependent variable: X, y\n",
    "X = df5.drop('Income', axis=1)\n",
    "y = df5.Income"
   ]
  },
  {
   "cell_type": "code",
   "execution_count": 190,
   "metadata": {
    "collapsed": true
   },
   "outputs": [],
   "source": [
    "#split data into training and testing\n",
    "X_train, X_test, y_train, y_test = train_test_split(X,y, test_size=0.4, random_state=42)"
   ]
  },
  {
   "cell_type": "code",
   "execution_count": 193,
   "metadata": {
    "collapsed": true
   },
   "outputs": [],
   "source": [
    "#Instantiate Random Forest Regressor: regr\n",
    "regr = RandomForestRegressor()"
   ]
  },
  {
   "cell_type": "code",
   "execution_count": 192,
   "metadata": {
    "collapsed": true
   },
   "outputs": [],
   "source": [
    "#Specify range of hyperparameters to be tested using Grid Search\n",
    "parameters = {\"max_depth\": list(range(1,10))\n",
    "              , \"min_samples_split\": [50,100,200]\n",
    "              , \"n_estimators\": list(range(1,5))\n",
    "              , \"max_features\": list(range(2,20))  }"
   ]
  },
  {
   "cell_type": "code",
   "execution_count": 196,
   "metadata": {
    "collapsed": true
   },
   "outputs": [],
   "source": [
    "# Instantiate the GridSearchCV object: regr_cv\n",
    "regr_cv =  GridSearchCV(regr, parameters, cv=5)"
   ]
  },
  {
   "cell_type": "code",
   "execution_count": 197,
   "metadata": {},
   "outputs": [
    {
     "data": {
      "text/plain": [
       "GridSearchCV(cv=5, error_score='raise',\n",
       "       estimator=RandomForestRegressor(bootstrap=True, criterion='mse', max_depth=None,\n",
       "           max_features='auto', max_leaf_nodes=None,\n",
       "           min_impurity_decrease=0.0, min_impurity_split=None,\n",
       "           min_samples_leaf=1, min_samples_split=2,\n",
       "           min_weight_fraction_leaf=0.0, n_estimators=10, n_jobs=1,\n",
       "           oob_score=False, random_state=None, verbose=0, warm_start=False),\n",
       "       fit_params=None, iid=True, n_jobs=1,\n",
       "       param_grid={'max_depth': [1, 2, 3, 4, 5, 6, 7, 8, 9], 'min_samples_split': [50, 100, 200], 'n_estimators': [1, 2, 3, 4], 'max_features': [2, 3, 4, 5, 6, 7, 8, 9, 10, 11, 12, 13, 14, 15, 16, 17, 18, 19]},\n",
       "       pre_dispatch='2*n_jobs', refit=True, return_train_score=True,\n",
       "       scoring=None, verbose=0)"
      ]
     },
     "execution_count": 197,
     "metadata": {},
     "output_type": "execute_result"
    }
   ],
   "source": [
    "#Fit the model to training data\n",
    "regr_cv.fit(X_train, y_train)"
   ]
  },
  {
   "cell_type": "code",
   "execution_count": 198,
   "metadata": {},
   "outputs": [
    {
     "name": "stdout",
     "output_type": "stream",
     "text": [
      "Tuned Random Forest Regressor Parameters: {'max_depth': 9, 'max_features': 10, 'min_samples_split': 50, 'n_estimators': 4}\n",
      "Best Score is: 0.6082351549586233\n"
     ]
    }
   ],
   "source": [
    "print(\"Tuned Random Forest Regressor Parameters: {}\".format(regr_cv.best_params_))\n",
    "print(\"Best Score is: {}\".format(regr_cv.best_score_))"
   ]
  },
  {
   "cell_type": "code",
   "execution_count": 200,
   "metadata": {},
   "outputs": [],
   "source": [
    "#Test the model on test dataset\n",
    "y_pred = regr_cv.predict(X_test)"
   ]
  },
  {
   "cell_type": "code",
   "execution_count": 118,
   "metadata": {},
   "outputs": [
    {
     "name": "stdout",
     "output_type": "stream",
     "text": [
      "R^2: 0.5852595578709596\n",
      "Root Mean Squared Error: 10175.746040092701\n"
     ]
    }
   ],
   "source": [
    "print(\"R^2: {}\".format(regr.score(X_test, y_test)))\n",
    "rmse = np.sqrt(mean_squared_error(y_test, y_pred))\n",
    "print(\"Root Mean Squared Error: {}\".format(rmse))"
   ]
  },
  {
   "cell_type": "markdown",
   "metadata": {},
   "source": [
    "The results show that Random Forest Regressor does a decent job in predicting the Income with an R-square of almost 0.59"
   ]
  },
  {
   "cell_type": "markdown",
   "metadata": {},
   "source": [
    "    "
   ]
  },
  {
   "cell_type": "code",
   "execution_count": 121,
   "metadata": {
    "collapsed": true
   },
   "outputs": [],
   "source": []
  },
  {
   "cell_type": "code",
   "execution_count": 122,
   "metadata": {
    "collapsed": true
   },
   "outputs": [],
   "source": [
    "#Instantiate Elastic Net: elastic_net\n",
    "elastic_net = ElasticNet()"
   ]
  },
  {
   "cell_type": "code",
   "execution_count": null,
   "metadata": {
    "collapsed": true
   },
   "outputs": [],
   "source": [
    "#Specify range of hyperparameter to be tested using Grid Search\n",
    "param_en = {\"l1_ratio\": np.linspace(0, 1, 30)}"
   ]
  },
  {
   "cell_type": "code",
   "execution_count": 124,
   "metadata": {},
   "outputs": [],
   "source": [
    "# Instantiate the GridSearchCV object: gm_cv\n",
    "gm_cv = GridSearchCV(elastic_net, param_en, cv=5)"
   ]
  },
  {
   "cell_type": "code",
   "execution_count": 125,
   "metadata": {},
   "outputs": [
    {
     "name": "stderr",
     "output_type": "stream",
     "text": [
      "C:\\Users\\harshvardhan\\Anaconda3\\lib\\site-packages\\sklearn\\linear_model\\coordinate_descent.py:491: ConvergenceWarning: Objective did not converge. You might want to increase the number of iterations. Fitting data with very small alpha may cause precision problems.\n",
      "  ConvergenceWarning)\n",
      "C:\\Users\\harshvardhan\\Anaconda3\\lib\\site-packages\\sklearn\\linear_model\\coordinate_descent.py:491: ConvergenceWarning: Objective did not converge. You might want to increase the number of iterations. Fitting data with very small alpha may cause precision problems.\n",
      "  ConvergenceWarning)\n",
      "C:\\Users\\harshvardhan\\Anaconda3\\lib\\site-packages\\sklearn\\linear_model\\coordinate_descent.py:491: ConvergenceWarning: Objective did not converge. You might want to increase the number of iterations. Fitting data with very small alpha may cause precision problems.\n",
      "  ConvergenceWarning)\n",
      "C:\\Users\\harshvardhan\\Anaconda3\\lib\\site-packages\\sklearn\\linear_model\\coordinate_descent.py:491: ConvergenceWarning: Objective did not converge. You might want to increase the number of iterations. Fitting data with very small alpha may cause precision problems.\n",
      "  ConvergenceWarning)\n",
      "C:\\Users\\harshvardhan\\Anaconda3\\lib\\site-packages\\sklearn\\linear_model\\coordinate_descent.py:491: ConvergenceWarning: Objective did not converge. You might want to increase the number of iterations. Fitting data with very small alpha may cause precision problems.\n",
      "  ConvergenceWarning)\n"
     ]
    },
    {
     "data": {
      "text/plain": [
       "GridSearchCV(cv=5, error_score='raise',\n",
       "       estimator=ElasticNet(alpha=1.0, copy_X=True, fit_intercept=True, l1_ratio=0.5,\n",
       "      max_iter=1000, normalize=False, positive=False, precompute=False,\n",
       "      random_state=None, selection='cyclic', tol=0.0001, warm_start=False),\n",
       "       fit_params=None, iid=True, n_jobs=1,\n",
       "       param_grid={'l1_ratio': array([ 0.     ,  0.03448,  0.06897,  0.10345,  0.13793,  0.17241,\n",
       "        0.2069 ,  0.24138,  0.27586,  0.31034,  0.34483,  0.37931,\n",
       "        0.41379,  0.44828,  0.48276,  0.51724,  0.55172,  0.58621,\n",
       "        0.62069,  0.65517,  0.68966,  0.72414,  0.75862,  0.7931 ,\n",
       "        0.82759,  0.86207,  0.89655,  0.93103,  0.96552,  1.     ])},\n",
       "       pre_dispatch='2*n_jobs', refit=True, return_train_score=True,\n",
       "       scoring=None, verbose=0)"
      ]
     },
     "execution_count": 125,
     "metadata": {},
     "output_type": "execute_result"
    }
   ],
   "source": [
    "#Fit the model\n",
    "gm_cv.fit(X_train, y_train)"
   ]
  },
  {
   "cell_type": "code",
   "execution_count": 126,
   "metadata": {},
   "outputs": [
    {
     "name": "stdout",
     "output_type": "stream",
     "text": [
      "Tuned ElasticNet l1 ratio: {'l1_ratio': 1.0}\n",
      "Tuned ElasticNet R squared: 0.5460378246450649\n",
      "Tuned ElasticNet MSE: 113338066.97938824\n"
     ]
    }
   ],
   "source": [
    "#Test the model on test dataset\n",
    "y_pred_net = gm_cv.predict(X_test)\n",
    "r2 = gm_cv.score(X_test, y_test)\n",
    "mse = mean_squared_error(y_test, y_pred_net)\n",
    "print(\"Tuned ElasticNet l1 ratio: {}\".format(gm_cv.best_params_))\n",
    "print(\"Tuned ElasticNet R squared: {}\".format(r2))\n",
    "print(\"Tuned ElasticNet MSE: {}\".format(mse))"
   ]
  },
  {
   "cell_type": "markdown",
   "metadata": {},
   "source": [
    "Although the Elastic Net model did perform well with R2 of 0.54, its performance was less compared to the Random Forest Regressor"
   ]
  },
  {
   "cell_type": "markdown",
   "metadata": {},
   "source": [
    "Scaling the data and applying the models again using Pipeline"
   ]
  },
  {
   "cell_type": "code",
   "execution_count": 160,
   "metadata": {},
   "outputs": [],
   "source": [
    "#Setup pipeline steps: steps\n",
    "steps = [('scaler', StandardScaler()),\n",
    "        ('regr_sc' , RandomForestRegressor())]"
   ]
  },
  {
   "cell_type": "code",
   "execution_count": 163,
   "metadata": {
    "collapsed": true
   },
   "outputs": [],
   "source": [
    "#Instantiate the pipeline\n",
    "pipeline_regr = Pipeline(steps)"
   ]
  },
  {
   "cell_type": "code",
   "execution_count": 166,
   "metadata": {
    "collapsed": true
   },
   "outputs": [],
   "source": [
    "#Specify range for hyperparameters: parameters_reg\n",
    "parameters_reg = {\"regr_sc__max_depth\": list(range(1,10))\n",
    "              , \"regr_sc__min_samples_split\": [50,100,200]\n",
    "              , \"regr_sc__n_estimators\": list(range(1,5))\n",
    "              , \"regr_sc__max_features\": list(range(2,20))  }"
   ]
  },
  {
   "cell_type": "code",
   "execution_count": 167,
   "metadata": {},
   "outputs": [],
   "source": [
    "#Random Forest Regressor after standard scaling: regr_cv_sc\n",
    "regr_cv_sc =  GridSearchCV(pipeline_regr, param_grid=parameters_reg)"
   ]
  },
  {
   "cell_type": "code",
   "execution_count": 168,
   "metadata": {},
   "outputs": [
    {
     "data": {
      "text/plain": [
       "GridSearchCV(cv=None, error_score='raise',\n",
       "       estimator=Pipeline(memory=None,\n",
       "     steps=[('scaler', StandardScaler(copy=True, with_mean=True, with_std=True)), ('regr_sc', RandomForestRegressor(bootstrap=True, criterion='mse', max_depth=None,\n",
       "           max_features='auto', max_leaf_nodes=None,\n",
       "           min_impurity_decrease=0.0, min_impurity...imators=10, n_jobs=1,\n",
       "           oob_score=False, random_state=None, verbose=0, warm_start=False))]),\n",
       "       fit_params=None, iid=True, n_jobs=1,\n",
       "       param_grid={'regr_sc__max_depth': [1, 2, 3, 4, 5, 6, 7, 8, 9], 'regr_sc__min_samples_split': [50, 100, 200], 'regr_sc__n_estimators': [1, 2, 3, 4], 'regr_sc__max_features': [2, 3, 4, 5, 6, 7, 8, 9, 10, 11, 12, 13, 14, 15, 16, 17, 18, 19]},\n",
       "       pre_dispatch='2*n_jobs', refit=True, return_train_score=True,\n",
       "       scoring=None, verbose=0)"
      ]
     },
     "execution_count": 168,
     "metadata": {},
     "output_type": "execute_result"
    }
   ],
   "source": [
    "#Fit the model\n",
    "regr_cv_sc.fit(X_train, y_train)"
   ]
  },
  {
   "cell_type": "code",
   "execution_count": 171,
   "metadata": {},
   "outputs": [
    {
     "name": "stdout",
     "output_type": "stream",
     "text": [
      "Tuned Random Forest Regressor Parameters: {'regr_sc__max_depth': 9, 'regr_sc__max_features': 15, 'regr_sc__min_samples_split': 50, 'regr_sc__n_estimators': 4}\n",
      "Best Score is: 0.6193168798523947\n"
     ]
    }
   ],
   "source": [
    "print(\"Tuned Random Forest Regressor Parameters: {}\".format(regr_cv_sc.best_params_))\n",
    "print(\"Best Score is: {}\".format(regr_cv_sc.best_score_))"
   ]
  },
  {
   "cell_type": "code",
   "execution_count": 172,
   "metadata": {},
   "outputs": [],
   "source": [
    "y_pred_reg = regr_cv_sc.predict(X_test)"
   ]
  },
  {
   "cell_type": "code",
   "execution_count": 174,
   "metadata": {},
   "outputs": [
    {
     "name": "stdout",
     "output_type": "stream",
     "text": [
      "R^2: 0.6485288263798779\n",
      "Root Mean Squared Error: 9367.483185640427\n"
     ]
    }
   ],
   "source": [
    "print(\"R^2: {}\".format(regr_cv_sc.score(X_test, y_test)))\n",
    "rmse = np.sqrt(mean_squared_error(y_test, y_pred_reg))\n",
    "print(\"Root Mean Squared Error: {}\".format(rmse))"
   ]
  },
  {
   "cell_type": "markdown",
   "metadata": {},
   "source": [
    "The results show that after scaling the Random Forest Regression model is performing better. The R-square increased from almost 0.59 to 0.65 and RMSE decreased from  10175.75 to 9367.48"
   ]
  },
  {
   "cell_type": "markdown",
   "metadata": {},
   "source": [
    "Scaling the data and applying the Elastic Net model again using Pipeline"
   ]
  },
  {
   "cell_type": "code",
   "execution_count": 177,
   "metadata": {
    "collapsed": true
   },
   "outputs": [],
   "source": [
    "#Setup pipeline steps: steps\n",
    "steps_en = [('scaler', StandardScaler()),\n",
    "        ('elastic_net_sc' , ElasticNet())]"
   ]
  },
  {
   "cell_type": "code",
   "execution_count": 178,
   "metadata": {
    "collapsed": true
   },
   "outputs": [],
   "source": [
    "#Instantiate the pipeline\n",
    "pipeline_en = Pipeline(steps_en)"
   ]
  },
  {
   "cell_type": "code",
   "execution_count": 182,
   "metadata": {
    "collapsed": true
   },
   "outputs": [],
   "source": [
    "# Specify the hyperparameter space\n",
    "param_en_sc = {'elastic_net_sc__l1_ratio':np.linspace(0,1,30)}"
   ]
  },
  {
   "cell_type": "code",
   "execution_count": 203,
   "metadata": {
    "collapsed": true
   },
   "outputs": [],
   "source": [
    "#ElasticNet after standard scaling: elastic_cv_sc\n",
    "elastic_cv_sc =  GridSearchCV(pipeline_en, param_grid=param_en_sc, cv=5)"
   ]
  },
  {
   "cell_type": "code",
   "execution_count": 204,
   "metadata": {},
   "outputs": [
    {
     "name": "stderr",
     "output_type": "stream",
     "text": [
      "C:\\Users\\harshvardhan\\Anaconda3\\lib\\site-packages\\sklearn\\linear_model\\coordinate_descent.py:491: ConvergenceWarning: Objective did not converge. You might want to increase the number of iterations. Fitting data with very small alpha may cause precision problems.\n",
      "  ConvergenceWarning)\n",
      "C:\\Users\\harshvardhan\\Anaconda3\\lib\\site-packages\\sklearn\\linear_model\\coordinate_descent.py:491: ConvergenceWarning: Objective did not converge. You might want to increase the number of iterations. Fitting data with very small alpha may cause precision problems.\n",
      "  ConvergenceWarning)\n",
      "C:\\Users\\harshvardhan\\Anaconda3\\lib\\site-packages\\sklearn\\linear_model\\coordinate_descent.py:491: ConvergenceWarning: Objective did not converge. You might want to increase the number of iterations. Fitting data with very small alpha may cause precision problems.\n",
      "  ConvergenceWarning)\n",
      "C:\\Users\\harshvardhan\\Anaconda3\\lib\\site-packages\\sklearn\\linear_model\\coordinate_descent.py:491: ConvergenceWarning: Objective did not converge. You might want to increase the number of iterations. Fitting data with very small alpha may cause precision problems.\n",
      "  ConvergenceWarning)\n",
      "C:\\Users\\harshvardhan\\Anaconda3\\lib\\site-packages\\sklearn\\linear_model\\coordinate_descent.py:491: ConvergenceWarning: Objective did not converge. You might want to increase the number of iterations. Fitting data with very small alpha may cause precision problems.\n",
      "  ConvergenceWarning)\n"
     ]
    },
    {
     "data": {
      "text/plain": [
       "GridSearchCV(cv=5, error_score='raise',\n",
       "       estimator=Pipeline(memory=None,\n",
       "     steps=[('scaler', StandardScaler(copy=True, with_mean=True, with_std=True)), ('elastic_net_sc', ElasticNet(alpha=1.0, copy_X=True, fit_intercept=True, l1_ratio=0.5,\n",
       "      max_iter=1000, normalize=False, positive=False, precompute=False,\n",
       "      random_state=None, selection='cyclic', tol=0.0001, warm_start=False))]),\n",
       "       fit_params=None, iid=True, n_jobs=1,\n",
       "       param_grid={'elastic_net_sc__l1_ratio': array([ 0.     ,  0.03448,  0.06897,  0.10345,  0.13793,  0.17241,\n",
       "        0.2069 ,  0.24138,  0.27586,  0.31034,  0.34483,  0.37931,\n",
       "        0.41379,  0.44828,  0.48276,  0.51724,  0.55172,  0.58621,\n",
       "        0.62069,  0.65517,  0.68966,  0.72414,  0.75862,  0.7931 ,\n",
       "        0.82759,  0.86207,  0.89655,  0.93103,  0.96552,  1.     ])},\n",
       "       pre_dispatch='2*n_jobs', refit=True, return_train_score=True,\n",
       "       scoring=None, verbose=0)"
      ]
     },
     "execution_count": 204,
     "metadata": {},
     "output_type": "execute_result"
    }
   ],
   "source": [
    "#Fit the model\n",
    "elastic_cv_sc.fit(X_train, y_train)"
   ]
  },
  {
   "cell_type": "code",
   "execution_count": 205,
   "metadata": {},
   "outputs": [
    {
     "name": "stdout",
     "output_type": "stream",
     "text": [
      "Tuned ElasticNet l1 ratio: {'elastic_net_sc__l1_ratio': 0.96551724137931028}\n",
      "Tuned ElasticNet R squared: 0.5391314798850932\n",
      "Tuned ElasticNet MSE: 115062333.46563551\n"
     ]
    }
   ],
   "source": [
    "y_pred_net_sc = elastic_cv_sc.predict(X_test)\n",
    "r2 = elastic_cv_sc.score(X_test, y_test)\n",
    "mse = mean_squared_error(y_test, y_pred_net_sc)\n",
    "print(\"Tuned ElasticNet l1 ratio: {}\".format(elastic_cv_sc.best_params_))\n",
    "print(\"Tuned ElasticNet R squared: {}\".format(r2))\n",
    "print(\"Tuned ElasticNet MSE: {}\".format(mse))"
   ]
  },
  {
   "cell_type": "markdown",
   "metadata": {},
   "source": []
  }
 ],
 "metadata": {
  "kernelspec": {
   "display_name": "Python 3",
   "language": "python",
   "name": "python3"
  },
  "language_info": {
   "codemirror_mode": {
    "name": "ipython",
    "version": 3
   },
   "file_extension": ".py",
   "mimetype": "text/x-python",
   "name": "python",
   "nbconvert_exporter": "python",
   "pygments_lexer": "ipython3",
   "version": "3.6.2"
  }
 },
 "nbformat": 4,
 "nbformat_minor": 2
}
